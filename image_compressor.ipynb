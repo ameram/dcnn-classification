{
 "cells": [
  {
   "cell_type": "code",
   "execution_count": 329,
   "id": "9938a6f7-3a5f-4df9-a62d-128ef243e545",
   "metadata": {},
   "outputs": [],
   "source": [
    "from PIL import Image\n",
    "import numpy as np \n",
    "img = Image.open('713.jpg')\n"
   ]
  },
  {
   "cell_type": "code",
   "execution_count": null,
   "id": "f6c93fa7-b84a-4b5f-a61c-103ba3f23154",
   "metadata": {},
   "outputs": [],
   "source": []
  },
  {
   "cell_type": "code",
   "execution_count": 330,
   "id": "7b3edc8a-5ac4-4983-a335-6f0714becc94",
   "metadata": {},
   "outputs": [],
   "source": [
    "img.show()"
   ]
  },
  {
   "cell_type": "code",
   "execution_count": 411,
   "id": "c623c0fd-1aed-4aab-ac75-a2a3acf01f75",
   "metadata": {},
   "outputs": [],
   "source": [
    "STRIDE_SIZE=16"
   ]
  },
  {
   "cell_type": "code",
   "execution_count": 412,
   "id": "8f30b815-ce58-4eb3-87ee-f19dad345970",
   "metadata": {},
   "outputs": [],
   "source": [
    "full_size = img.size[0]*img.size[1]"
   ]
  },
  {
   "cell_type": "code",
   "execution_count": 413,
   "id": "951bfc2a-2763-4a3b-81fc-272e9f65d0e9",
   "metadata": {
    "tags": []
   },
   "outputs": [],
   "source": [
    "line_pixels = list(img.getdata())\n",
    "l = np.array(line_pixels)"
   ]
  },
  {
   "cell_type": "code",
   "execution_count": 414,
   "id": "51138566-f4e2-47ee-ad88-b34dd555b971",
   "metadata": {
    "tags": []
   },
   "outputs": [],
   "source": [
    "l = l.reshape(img.size[0], img.size[1], 3)\n",
    "w, h = img.size"
   ]
  },
  {
   "cell_type": "code",
   "execution_count": null,
   "id": "275a746b-0733-4b82-b8d4-e9aa8734d4fd",
   "metadata": {},
   "outputs": [],
   "source": []
  },
  {
   "cell_type": "code",
   "execution_count": 415,
   "id": "67ddba31-957e-4561-b6a7-5298131e1289",
   "metadata": {
    "tags": []
   },
   "outputs": [],
   "source": [
    "# This is the main loop it pickes 4 pixels for combining later\n",
    "# it starts from even rows and then picks picks every pixel of column then i use numpy to divide this by 4 so that i can reduce\n",
    "\n",
    "pos = []\n",
    "\n",
    "for j in range(0, w, STRIDE_SIZE):\n",
    "    for i in range(w):\n",
    "        for k in range(j, j+STRIDE_SIZE):\n",
    "            pos.append((k, i))"
   ]
  },
  {
   "cell_type": "code",
   "execution_count": 416,
   "id": "e23735e6-017f-4c3b-8e3f-60ac2c874a8a",
   "metadata": {
    "tags": []
   },
   "outputs": [],
   "source": [
    "four_div = np.array(pos)"
   ]
  },
  {
   "cell_type": "code",
   "execution_count": 417,
   "id": "ae8e5da0-bd0c-4189-955c-503932ce4a10",
   "metadata": {},
   "outputs": [],
   "source": [
    "four_div = four_div.reshape(full_size//(STRIDE_SIZE*STRIDE_SIZE), STRIDE_SIZE*STRIDE_SIZE, 2)"
   ]
  },
  {
   "cell_type": "code",
   "execution_count": 418,
   "id": "e8d186e9-15e0-4b4c-8185-26b6d68cdfd4",
   "metadata": {},
   "outputs": [
    {
     "data": {
      "text/plain": [
       "[[0, 0],\n",
       " [1, 0],\n",
       " [2, 0],\n",
       " [3, 0],\n",
       " [4, 0],\n",
       " [5, 0],\n",
       " [6, 0],\n",
       " [7, 0],\n",
       " [8, 0],\n",
       " [9, 0],\n",
       " [10, 0],\n",
       " [11, 0],\n",
       " [12, 0],\n",
       " [13, 0],\n",
       " [14, 0],\n",
       " [15, 0],\n",
       " [0, 1],\n",
       " [1, 1],\n",
       " [2, 1],\n",
       " [3, 1],\n",
       " [4, 1],\n",
       " [5, 1],\n",
       " [6, 1],\n",
       " [7, 1],\n",
       " [8, 1],\n",
       " [9, 1],\n",
       " [10, 1],\n",
       " [11, 1],\n",
       " [12, 1],\n",
       " [13, 1],\n",
       " [14, 1],\n",
       " [15, 1],\n",
       " [0, 2],\n",
       " [1, 2],\n",
       " [2, 2],\n",
       " [3, 2],\n",
       " [4, 2],\n",
       " [5, 2],\n",
       " [6, 2],\n",
       " [7, 2],\n",
       " [8, 2],\n",
       " [9, 2],\n",
       " [10, 2],\n",
       " [11, 2],\n",
       " [12, 2],\n",
       " [13, 2],\n",
       " [14, 2],\n",
       " [15, 2],\n",
       " [0, 3],\n",
       " [1, 3],\n",
       " [2, 3],\n",
       " [3, 3],\n",
       " [4, 3],\n",
       " [5, 3],\n",
       " [6, 3],\n",
       " [7, 3],\n",
       " [8, 3],\n",
       " [9, 3],\n",
       " [10, 3],\n",
       " [11, 3],\n",
       " [12, 3],\n",
       " [13, 3],\n",
       " [14, 3],\n",
       " [15, 3],\n",
       " [0, 4],\n",
       " [1, 4],\n",
       " [2, 4],\n",
       " [3, 4],\n",
       " [4, 4],\n",
       " [5, 4],\n",
       " [6, 4],\n",
       " [7, 4],\n",
       " [8, 4],\n",
       " [9, 4],\n",
       " [10, 4],\n",
       " [11, 4],\n",
       " [12, 4],\n",
       " [13, 4],\n",
       " [14, 4],\n",
       " [15, 4],\n",
       " [0, 5],\n",
       " [1, 5],\n",
       " [2, 5],\n",
       " [3, 5],\n",
       " [4, 5],\n",
       " [5, 5],\n",
       " [6, 5],\n",
       " [7, 5],\n",
       " [8, 5],\n",
       " [9, 5],\n",
       " [10, 5],\n",
       " [11, 5],\n",
       " [12, 5],\n",
       " [13, 5],\n",
       " [14, 5],\n",
       " [15, 5],\n",
       " [0, 6],\n",
       " [1, 6],\n",
       " [2, 6],\n",
       " [3, 6],\n",
       " [4, 6],\n",
       " [5, 6],\n",
       " [6, 6],\n",
       " [7, 6],\n",
       " [8, 6],\n",
       " [9, 6],\n",
       " [10, 6],\n",
       " [11, 6],\n",
       " [12, 6],\n",
       " [13, 6],\n",
       " [14, 6],\n",
       " [15, 6],\n",
       " [0, 7],\n",
       " [1, 7],\n",
       " [2, 7],\n",
       " [3, 7],\n",
       " [4, 7],\n",
       " [5, 7],\n",
       " [6, 7],\n",
       " [7, 7],\n",
       " [8, 7],\n",
       " [9, 7],\n",
       " [10, 7],\n",
       " [11, 7],\n",
       " [12, 7],\n",
       " [13, 7],\n",
       " [14, 7],\n",
       " [15, 7],\n",
       " [0, 8],\n",
       " [1, 8],\n",
       " [2, 8],\n",
       " [3, 8],\n",
       " [4, 8],\n",
       " [5, 8],\n",
       " [6, 8],\n",
       " [7, 8],\n",
       " [8, 8],\n",
       " [9, 8],\n",
       " [10, 8],\n",
       " [11, 8],\n",
       " [12, 8],\n",
       " [13, 8],\n",
       " [14, 8],\n",
       " [15, 8],\n",
       " [0, 9],\n",
       " [1, 9],\n",
       " [2, 9],\n",
       " [3, 9],\n",
       " [4, 9],\n",
       " [5, 9],\n",
       " [6, 9],\n",
       " [7, 9],\n",
       " [8, 9],\n",
       " [9, 9],\n",
       " [10, 9],\n",
       " [11, 9],\n",
       " [12, 9],\n",
       " [13, 9],\n",
       " [14, 9],\n",
       " [15, 9],\n",
       " [0, 10],\n",
       " [1, 10],\n",
       " [2, 10],\n",
       " [3, 10],\n",
       " [4, 10],\n",
       " [5, 10],\n",
       " [6, 10],\n",
       " [7, 10],\n",
       " [8, 10],\n",
       " [9, 10],\n",
       " [10, 10],\n",
       " [11, 10],\n",
       " [12, 10],\n",
       " [13, 10],\n",
       " [14, 10],\n",
       " [15, 10],\n",
       " [0, 11],\n",
       " [1, 11],\n",
       " [2, 11],\n",
       " [3, 11],\n",
       " [4, 11],\n",
       " [5, 11],\n",
       " [6, 11],\n",
       " [7, 11],\n",
       " [8, 11],\n",
       " [9, 11],\n",
       " [10, 11],\n",
       " [11, 11],\n",
       " [12, 11],\n",
       " [13, 11],\n",
       " [14, 11],\n",
       " [15, 11],\n",
       " [0, 12],\n",
       " [1, 12],\n",
       " [2, 12],\n",
       " [3, 12],\n",
       " [4, 12],\n",
       " [5, 12],\n",
       " [6, 12],\n",
       " [7, 12],\n",
       " [8, 12],\n",
       " [9, 12],\n",
       " [10, 12],\n",
       " [11, 12],\n",
       " [12, 12],\n",
       " [13, 12],\n",
       " [14, 12],\n",
       " [15, 12],\n",
       " [0, 13],\n",
       " [1, 13],\n",
       " [2, 13],\n",
       " [3, 13],\n",
       " [4, 13],\n",
       " [5, 13],\n",
       " [6, 13],\n",
       " [7, 13],\n",
       " [8, 13],\n",
       " [9, 13],\n",
       " [10, 13],\n",
       " [11, 13],\n",
       " [12, 13],\n",
       " [13, 13],\n",
       " [14, 13],\n",
       " [15, 13],\n",
       " [0, 14],\n",
       " [1, 14],\n",
       " [2, 14],\n",
       " [3, 14],\n",
       " [4, 14],\n",
       " [5, 14],\n",
       " [6, 14],\n",
       " [7, 14],\n",
       " [8, 14],\n",
       " [9, 14],\n",
       " [10, 14],\n",
       " [11, 14],\n",
       " [12, 14],\n",
       " [13, 14],\n",
       " [14, 14],\n",
       " [15, 14],\n",
       " [0, 15],\n",
       " [1, 15],\n",
       " [2, 15],\n",
       " [3, 15],\n",
       " [4, 15],\n",
       " [5, 15],\n",
       " [6, 15],\n",
       " [7, 15],\n",
       " [8, 15],\n",
       " [9, 15],\n",
       " [10, 15],\n",
       " [11, 15],\n",
       " [12, 15],\n",
       " [13, 15],\n",
       " [14, 15],\n",
       " [15, 15]]"
      ]
     },
     "execution_count": 418,
     "metadata": {},
     "output_type": "execute_result"
    }
   ],
   "source": [
    "numbers = [(yy.tolist()) for yy in four_div]\n",
    "numbers[0]"
   ]
  },
  {
   "cell_type": "code",
   "execution_count": 419,
   "id": "41ed0039-0471-4e27-9244-aed86a8fdc6e",
   "metadata": {},
   "outputs": [],
   "source": [
    "sum=[]\n",
    "lines = []"
   ]
  },
  {
   "cell_type": "code",
   "execution_count": 420,
   "id": "e5558146-4848-4f07-8823-93585c5d68d9",
   "metadata": {
    "tags": []
   },
   "outputs": [],
   "source": [
    "for i in numbers:\n",
    "    for j in i:\n",
    "        a, b = j\n",
    "        sum.append(l[a][b])\n",
    "    z = np.array(sum)\n",
    "    lines.append(z.mean(axis=0))\n",
    "    sum = []"
   ]
  },
  {
   "cell_type": "code",
   "execution_count": 421,
   "id": "48716368-3f5d-4c0e-9833-0b1e889117bc",
   "metadata": {
    "tags": []
   },
   "outputs": [],
   "source": [
    "lines = np.array(lines)\n",
    "lines = lines.reshape(w//STRIDE_SIZE, h//STRIDE_SIZE, 3)\n",
    "lines = lines.astype('int')"
   ]
  },
  {
   "cell_type": "code",
   "execution_count": 422,
   "id": "404b7c89-b355-4462-aa3b-48179c1bfdb3",
   "metadata": {},
   "outputs": [
    {
     "data": {
      "text/plain": [
       "(75, 75, 3)"
      ]
     },
     "execution_count": 422,
     "metadata": {},
     "output_type": "execute_result"
    }
   ],
   "source": [
    "lines.shape"
   ]
  },
  {
   "cell_type": "code",
   "execution_count": 423,
   "id": "ef5e9f79-0f98-4a05-8454-cbfd5f2ae2a8",
   "metadata": {},
   "outputs": [],
   "source": [
    "lines = lines.reshape(-1, 3)"
   ]
  },
  {
   "cell_type": "code",
   "execution_count": 424,
   "id": "7c9bc471-de9a-4806-adf9-53d4bcef413c",
   "metadata": {},
   "outputs": [],
   "source": [
    "outcome = list(map(tuple, lines))"
   ]
  },
  {
   "cell_type": "code",
   "execution_count": 425,
   "id": "7de087e0-8184-4490-9b24-ceec315dc035",
   "metadata": {},
   "outputs": [
    {
     "data": {
      "text/plain": [
       "3"
      ]
     },
     "execution_count": 425,
     "metadata": {},
     "output_type": "execute_result"
    }
   ],
   "source": [
    "len(outcome[0])"
   ]
  },
  {
   "cell_type": "code",
   "execution_count": 429,
   "id": "5b25d1c6-8f04-4cb9-ae6a-33e44ec2ef35",
   "metadata": {},
   "outputs": [
    {
     "data": {
      "text/plain": [
       "(75, 75)"
      ]
     },
     "execution_count": 429,
     "metadata": {},
     "output_type": "execute_result"
    }
   ],
   "source": [
    "# Resizing the results\n",
    "new_image_size = (w//STRIDE_SIZE, h//STRIDE_SIZE)\n",
    "other_image_size = (w, h)\n",
    "new_image_size"
   ]
  },
  {
   "cell_type": "code",
   "execution_count": 427,
   "id": "a08f1be1-2f05-44e9-9a1e-9d5adda8aa72",
   "metadata": {},
   "outputs": [],
   "source": [
    "im2 = Image.new(img.mode, new_image_size)\n",
    "im2.putdata(outcome)"
   ]
  },
  {
   "cell_type": "code",
   "execution_count": 428,
   "id": "5c3f6546-4b57-4dca-8a77-b5cd7de5f1bd",
   "metadata": {},
   "outputs": [],
   "source": [
    "im2.save(f'713-div-{STRIDE_SIZE}.jpg')"
   ]
  },
  {
   "cell_type": "code",
   "execution_count": null,
   "id": "e2589b2d-f0d8-4c7c-be35-666d7f1d387c",
   "metadata": {},
   "outputs": [],
   "source": [
    "im2 = Image.new(img.mode, other_image_size)\n",
    "im2.putdata(outcome)"
   ]
  },
  {
   "cell_type": "code",
   "execution_count": 430,
   "id": "6f49f010-a2cd-425a-a80d-44aa9c899aed",
   "metadata": {},
   "outputs": [],
   "source": [
    "im2.save(f'713-div-{STRIDE_SIZE}x.jpg')"
   ]
  },
  {
   "cell_type": "code",
   "execution_count": null,
   "id": "49983d72-9153-4d46-b41e-0c0ab61c88a3",
   "metadata": {},
   "outputs": [],
   "source": []
  }
 ],
 "metadata": {
  "kernelspec": {
   "display_name": "Python 3",
   "language": "python",
   "name": "python3"
  },
  "language_info": {
   "codemirror_mode": {
    "name": "ipython",
    "version": 3
   },
   "file_extension": ".py",
   "mimetype": "text/x-python",
   "name": "python",
   "nbconvert_exporter": "python",
   "pygments_lexer": "ipython3",
   "version": "3.8.10"
  }
 },
 "nbformat": 4,
 "nbformat_minor": 5
}
