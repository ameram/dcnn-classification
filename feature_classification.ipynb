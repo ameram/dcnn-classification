{
  "nbformat": 4,
  "nbformat_minor": 0,
  "metadata": {
    "colab": {
      "provenance": [],
      "collapsed_sections": [
        "SP-OdFQOCbzT"
      ],
      "include_colab_link": true
    },
    "kernelspec": {
      "name": "python3",
      "display_name": "Python 3"
    },
    "language_info": {
      "name": "python"
    }
  },
  "cells": [
    {
      "cell_type": "markdown",
      "metadata": {
        "id": "view-in-github",
        "colab_type": "text"
      },
      "source": [
        "<a href=\"https://colab.research.google.com/github/ameram/dcnn-classification/blob/master/feature_classification.ipynb\" target=\"_parent\"><img src=\"https://colab.research.google.com/assets/colab-badge.svg\" alt=\"Open In Colab\"/></a>"
      ]
    },
    {
      "cell_type": "markdown",
      "source": [
        "# Intro\n",
        "This project is my final project, where I try to use a DCNN and VGG16 (which is also a DCNN) for getting the features out the input pictures. After that using a SVM model to classify the features."
      ],
      "metadata": {
        "id": "XWmvJK08C7gv"
      }
    },
    {
      "cell_type": "markdown",
      "source": [
        "# PART I\n",
        "# Fetching and preparing the data"
      ],
      "metadata": {
        "id": "Z9WpvjdZChZK"
      }
    },
    {
      "cell_type": "code",
      "source": [
        "# Connecting to Google Drive for getting the data\n",
        "\n",
        "from google.colab import drive\n",
        "drive.mount('/content/drive')"
      ],
      "metadata": {
        "colab": {
          "base_uri": "https://localhost:8080/"
        },
        "id": "JR8Aqiz42Ew1",
        "outputId": "3f17f0b6-3228-410d-87d1-72f047cf36d4"
      },
      "execution_count": 2,
      "outputs": [
        {
          "output_type": "stream",
          "name": "stdout",
          "text": [
            "Mounted at /content/drive\n"
          ]
        }
      ]
    },
    {
      "cell_type": "code",
      "source": [
        "# drive.mount(\"/content/drive\", force_remount=True)"
      ],
      "metadata": {
        "id": "U5DlzLcSudEH"
      },
      "execution_count": 3,
      "outputs": []
    },
    {
      "cell_type": "code",
      "source": [
        "# Importing necessary library for creating the model\n",
        "# and navigating through Google Drive.\n",
        "\n",
        "import os\n",
        "import matplotlib.pyplot as plt\n",
        "import keras\n",
        "from keras import layers, Sequential\n",
        "from skimage.io import imread\n",
        "from sklearn.model_selection import train_test_split\n",
        "from sklearn.metrics import accuracy_score\n",
        "import numpy as np\n",
        "import pandas as pd\n",
        "import tensorflow as tf\n",
        "from keras.optimizers import SGD\n",
        "from tensorflow.keras.preprocessing import image_dataset_from_directory\n",
        "from sklearn.pipeline import Pipeline\n",
        "from sklearn.preprocessing import StandardScaler\n",
        "from sklearn.svm import LinearSVC\n",
        "from sklearn.svm import SVC\n",
        "from sklearn.metrics import precision_recall_fscore_support\n",
        "from sklearn.metrics import confusion_matrix\n",
        "from skimage.transform import resize\n",
        "from sklearn.metrics import precision_score, recall_score, f1_score, accuracy_score\n",
        "\n",
        "\n",
        "os.chdir('drive/MyDrive/data')"
      ],
      "metadata": {
        "id": "n2eAdMaGKIlM"
      },
      "execution_count": 4,
      "outputs": []
    },
    {
      "cell_type": "code",
      "source": [
        "#Creating test and validation datasets\n",
        "\n",
        "\n",
        "# test = image_dataset_from_directory('.', class_names=['fruits', 'humans'], seed = 42, subset = 'training', validation_split=0.2, image_size=(100, 100))\n",
        "# val = image_dataset_from_directory('.', class_names=['fruits', 'humans'], seed = 42, subset = 'validation', validation_split=0.2, image_size=(100, 100))"
      ],
      "metadata": {
        "id": "hEDYhSnu7UoS"
      },
      "execution_count": null,
      "outputs": []
    },
    {
      "cell_type": "code",
      "source": [
        "# This is another way to import our data, which seems to perform better the preivous method.\n",
        "# In this method images are converted to a numpy array, and then we get an array for data\n",
        "# and another one for labels. After that we can scale it and split it.\n",
        "# So finally there are 4 arrays (2 features, 2 labels) instead of 2 datasets.\n",
        "\n",
        "\n",
        "Categories=['fruits', 'rc2', 'rc3',\n",
        "            'rc4', 'rc5', 'rc6',\n",
        "            'rc7', 'rc8', 'rc9',\n",
        "            'rc10', 'rc11', 'rc12',\n",
        "            'rc13', 'rc14', 'rc15']\n",
        "\n",
        "flat_data_arr=[]  #input array\n",
        "target_arr=[]     #output array\n",
        "\n",
        "# This variable is for navigating folder structure, we don't need it.\n",
        "datadir='' \n",
        "\n",
        "# Get the data for each category which is also the name of folder\n",
        "# Structure should be something like this\n",
        "# / (wd)\n",
        "#   class1/\n",
        "#       file1.jpg\n",
        "#       file2.jpg\n",
        "#       ...\n",
        "#   class2/\n",
        "#       file1.jpg\n",
        "#       file2.jpg\n",
        "#       ...\n",
        "\n",
        "\n",
        "for i in Categories:\n",
        "    \n",
        "    print(f'Loading... category : {i}')\n",
        "    path=os.path.join(datadir,i)\n",
        "\n",
        "    for img in os.listdir(path):\n",
        "        img_array=imread(os.path.join(path,img))\n",
        "        img_array= resize(img_array,(100, 100, 3))\n",
        "\n",
        "        flat_data_arr.append(np.asarray(img_array))\n",
        "        if i == 'rc4':\n",
        "          target_arr.append(0)\n",
        "        else:\n",
        "          target_arr.append(1)\n",
        "        # target_arr.append(Categories.index(i))\n",
        "    print(f'loaded category:{i} successfully')\n",
        "print(f\"{len(flat_data_arr)} added successfully\")"
      ],
      "metadata": {
        "id": "VHQyXaYCf4WU",
        "outputId": "1e6a13fa-c4de-4e35-ff4d-30eb81191340",
        "colab": {
          "base_uri": "https://localhost:8080/"
        }
      },
      "execution_count": null,
      "outputs": [
        {
          "output_type": "stream",
          "name": "stdout",
          "text": [
            "Loading... category : fruits\n",
            "loaded category:fruits successfully\n",
            "Loading... category : rc2\n",
            "loaded category:rc2 successfully\n",
            "Loading... category : rc3\n",
            "loaded category:rc3 successfully\n",
            "Loading... category : rc4\n"
          ]
        }
      ]
    },
    {
      "cell_type": "code",
      "source": [
        "print(len(flat_data_arr))\n",
        "print(len(target_arr))\n",
        "print(target_arr)"
      ],
      "metadata": {
        "colab": {
          "base_uri": "https://localhost:8080/"
        },
        "id": "K5LwDRTXfRCG",
        "outputId": "3c0cf200-9bb9-47f7-b3c8-eb142ac7ed13"
      },
      "execution_count": null,
      "outputs": [
        {
          "output_type": "stream",
          "name": "stdout",
          "text": [
            "750\n",
            "750\n",
            "[1, 1, 1, 1, 1, 1, 1, 1, 1, 1, 1, 1, 1, 1, 1, 1, 1, 1, 1, 1, 1, 1, 1, 1, 1, 1, 1, 1, 1, 1, 1, 1, 1, 1, 1, 1, 1, 1, 1, 1, 1, 1, 1, 1, 1, 1, 1, 1, 1, 1, 1, 1, 1, 1, 1, 1, 1, 1, 1, 1, 1, 1, 1, 1, 1, 1, 1, 1, 1, 1, 1, 1, 1, 1, 1, 1, 1, 1, 1, 1, 1, 1, 1, 1, 1, 1, 1, 1, 1, 1, 1, 1, 1, 1, 1, 1, 1, 1, 1, 1, 0, 0, 0, 0, 0, 0, 0, 0, 0, 0, 0, 0, 0, 0, 0, 0, 0, 0, 0, 0, 0, 0, 0, 0, 0, 0, 0, 0, 0, 0, 0, 0, 0, 0, 0, 0, 0, 0, 0, 0, 0, 0, 0, 0, 0, 0, 0, 0, 0, 0, 1, 1, 1, 1, 1, 1, 1, 1, 1, 1, 1, 1, 1, 1, 1, 1, 1, 1, 1, 1, 1, 1, 1, 1, 1, 1, 1, 1, 1, 1, 1, 1, 1, 1, 1, 1, 1, 1, 1, 1, 1, 1, 1, 1, 1, 1, 1, 1, 1, 1, 1, 1, 1, 1, 1, 1, 1, 1, 1, 1, 1, 1, 1, 1, 1, 1, 1, 1, 1, 1, 1, 1, 1, 1, 1, 1, 1, 1, 1, 1, 1, 1, 1, 1, 1, 1, 1, 1, 1, 1, 1, 1, 1, 1, 1, 1, 1, 1, 1, 1, 1, 1, 1, 1, 1, 1, 1, 1, 1, 1, 1, 1, 1, 1, 1, 1, 1, 1, 1, 1, 1, 1, 1, 1, 1, 1, 1, 1, 1, 1, 1, 1, 1, 1, 1, 1, 1, 1, 1, 1, 1, 1, 1, 1, 1, 1, 1, 1, 1, 1, 1, 1, 1, 1, 1, 1, 1, 1, 1, 1, 1, 1, 1, 1, 1, 1, 1, 1, 1, 1, 1, 1, 1, 1, 1, 1, 1, 1, 1, 1, 1, 1, 1, 1, 1, 1, 1, 1, 1, 1, 1, 1, 1, 1, 1, 1, 1, 1, 1, 1, 1, 1, 1, 1, 1, 1, 1, 1, 1, 1, 1, 1, 1, 1, 1, 1, 1, 1, 1, 1, 1, 1, 1, 1, 1, 1, 1, 1, 1, 1, 1, 1, 1, 1, 1, 1, 1, 1, 1, 1, 1, 1, 1, 1, 1, 1, 1, 1, 1, 1, 1, 1, 1, 1, 1, 1, 1, 1, 1, 1, 1, 1, 1, 1, 1, 1, 1, 1, 1, 1, 1, 1, 1, 1, 1, 1, 1, 1, 1, 1, 1, 1, 1, 1, 1, 1, 1, 1, 1, 1, 1, 1, 1, 1, 1, 1, 1, 1, 1, 1, 1, 1, 1, 1, 1, 1, 1, 1, 1, 1, 1, 1, 1, 1, 1, 1, 1, 1, 1, 1, 1, 1, 1, 1, 1, 1, 1, 1, 1, 1, 1, 1, 1, 1, 1, 1, 1, 1, 1, 1, 1, 1, 1, 1, 1, 1, 1, 1, 1, 1, 1, 1, 1, 1, 1, 1, 1, 1, 1, 1, 1, 1, 1, 1, 1, 1, 1, 1, 1, 1, 1, 1, 1, 1, 1, 1, 1, 1, 1, 1, 1, 1, 1, 1, 1, 1, 1, 1, 1, 1, 1, 1, 1, 1, 1, 1, 1, 1, 1, 1, 1, 1, 1, 1, 1, 1, 1, 1, 1, 1, 1, 1, 1, 1, 1, 1, 1, 1, 1, 1, 1, 1, 1, 1, 1, 1, 1, 1, 1, 1, 1, 1, 1, 1, 1, 1, 1, 1, 1, 1, 1, 1, 1, 1, 1, 1, 1, 1, 1, 1, 1, 1, 1, 1, 1, 1, 1, 1, 1, 1, 1, 1, 1, 1, 1, 1, 1, 1, 1, 1, 1, 1, 1, 1, 1, 1, 1, 1, 1, 1, 1, 1, 1, 1, 1, 1, 1, 1, 1, 1, 1, 1, 1, 1, 1, 1, 1, 1, 1, 1, 1, 1, 1, 1, 1, 1, 1, 1, 1, 1, 1, 1, 1, 1, 1, 1, 1, 1, 1, 1, 1, 1, 1, 1, 1, 1, 1, 1, 1, 1, 1, 1, 1, 1, 1, 1, 1, 1, 1, 1, 1, 1, 1, 1, 1, 1, 1, 1, 1, 1, 1, 1, 1, 1, 1, 1, 1, 1, 1, 1, 1, 1, 1, 1, 1, 1, 1, 1, 1, 1, 1, 1, 1, 1, 1, 1, 1, 1, 1, 1, 1, 1, 1, 1, 1, 1, 1, 1, 1, 1, 1, 1, 1, 1, 1, 1, 1, 1, 1, 1]\n"
          ]
        }
      ]
    },
    {
      "cell_type": "code",
      "source": [
        "# Preprocessing after we get the data\n",
        "# 1. Convert lists to np.array\n",
        "\n",
        "X_array = np.asarray(flat_data_arr)\n",
        "y_array = np.asarray(target_arr)"
      ],
      "metadata": {
        "id": "vdfJaofKia-j"
      },
      "execution_count": null,
      "outputs": []
    },
    {
      "cell_type": "code",
      "source": [
        "# 2. Split the data\n",
        "\n",
        "x_train, x_test, y_train, y_test = train_test_split(X_array, y_array, test_size=0.2,random_state=42,stratify=y_array)"
      ],
      "metadata": {
        "id": "_QlU_JtRjBj7"
      },
      "execution_count": null,
      "outputs": []
    },
    {
      "cell_type": "code",
      "source": [
        "# 3. Normalize the data\n",
        "x_train = x_train / 255.0\n",
        "x_test = x_test / 255.0\n",
        "# # \n",
        "print(f'Shape of training array: {x_train.shape}')\n",
        "print(f'Shape of testing array: {x_test.shape}')"
      ],
      "metadata": {
        "colab": {
          "base_uri": "https://localhost:8080/"
        },
        "id": "acHk1FrJ915K",
        "outputId": "a03b3403-3649-4d47-e901-3302ac27175e"
      },
      "execution_count": null,
      "outputs": [
        {
          "output_type": "stream",
          "name": "stdout",
          "text": [
            "Shape of training array: (600, 100, 100, 3)\n",
            "Shape of testing array: (150, 100, 100, 3)\n"
          ]
        }
      ]
    },
    {
      "cell_type": "markdown",
      "source": [
        "# PART II\n",
        "# Experimenting with DCNN and NN"
      ],
      "metadata": {
        "id": "SP-OdFQOCbzT"
      }
    },
    {
      "cell_type": "code",
      "source": [
        "# Time to create the convolutional classifier\n",
        "# this is not the main task and was create for the sake of \n",
        "# experimenting. We can safely skip this part.\n",
        "\n",
        "# inputs = keras.Input(shape=(100, 100, 3))\n",
        "# x = layers.Rescaling(1)(inputs)\n",
        "# x = layers.Conv2D(filters=16, kernel_size=3, activation=\"relu\")(x)\n",
        "# x = layers.MaxPooling2D(pool_size=2)(x)\n",
        "# x = layers.Conv2D(filters=32, kernel_size=3, activation=\"relu\")(x)\n",
        "# x = layers.MaxPooling2D(pool_size=2)(x)\n",
        "# x = layers.Conv2D(filters=64, kernel_size=3, activation=\"relu\")(x)\n",
        "# x = layers.MaxPooling2D(pool_size=2)(x)\n",
        "# x = layers.Conv2D(filters=128, kernel_size=3, activation=\"relu\")(x)\n",
        "# x = layers.MaxPooling2D(pool_size=2)(x)\n",
        "# x = layers.Conv2D(filters=128, kernel_size=3, activation=\"relu\")(x)\n",
        "# x = layers.Flatten()(x)\n",
        "# outputs = layers.Dense(1, activation=\"tanh\")(x)\n",
        "# model = keras.Model(inputs=inputs, outputs=x)\n",
        "\n",
        "\n",
        "model = Sequential([\n",
        "    layers.Conv2D(filters=8,kernel_size=(3,3),  input_shape = (100, 100, 3),activation='relu'),\n",
        "    layers.MaxPooling2D(pool_size=(2,2)),\n",
        "\n",
        "    layers.Conv2D(filters=16,kernel_size=(3,3), activation='relu'),\n",
        "    layers.MaxPooling2D(pool_size=(2,2)),\n",
        "    # layers.Dropout(0.25),\n",
        "\n",
        "    layers.Conv2D(filters=32,kernel_size=(3,3), activation='relu'),\n",
        "    layers.MaxPooling2D(pool_size=(2,2)),\n",
        "    layers.Dropout(0.25),\n",
        "\n",
        "    layers.Flatten(),\n",
        "    layers.Dense(128, activation='relu'),\n",
        "    # layers.Dropout(0.25),\n",
        "    layers.Dense(1, activation='softmax')\n",
        "])"
      ],
      "metadata": {
        "id": "741ehfbT4ZA9"
      },
      "execution_count": null,
      "outputs": []
    },
    {
      "cell_type": "code",
      "source": [
        "# Same here, just a normal dense neural network for classification.\n",
        "nn_model = keras.models.Sequential()\n",
        "nn_model.add(keras.layers.Flatten(input_shape=[100, 100, 3]))\n",
        "nn_model.add(keras.layers.Dense(2200, activation=\"relu\"))\n",
        "nn_model.add(keras.layers.Dense(1000, activation=\"relu\"))\n",
        "nn_model.add(keras.layers.Dense(90, activation=\"relu\"))\n",
        "nn_model.add(keras.layers.Dense(1, activation=\"sigmoid\"))"
      ],
      "metadata": {
        "id": "em9KiF1vsAcU"
      },
      "execution_count": null,
      "outputs": []
    },
    {
      "cell_type": "code",
      "source": [
        "model.summary()"
      ],
      "metadata": {
        "colab": {
          "base_uri": "https://localhost:8080/"
        },
        "id": "ZWL_Wmid47yx",
        "outputId": "3da369be-5b58-4921-cf56-5a99df56ee80"
      },
      "execution_count": null,
      "outputs": [
        {
          "output_type": "stream",
          "name": "stdout",
          "text": [
            "Model: \"sequential\"\n",
            "_________________________________________________________________\n",
            " Layer (type)                Output Shape              Param #   \n",
            "=================================================================\n",
            " conv2d (Conv2D)             (None, 98, 98, 8)         224       \n",
            "                                                                 \n",
            " max_pooling2d (MaxPooling2D  (None, 49, 49, 8)        0         \n",
            " )                                                               \n",
            "                                                                 \n",
            " conv2d_1 (Conv2D)           (None, 47, 47, 16)        1168      \n",
            "                                                                 \n",
            " max_pooling2d_1 (MaxPooling  (None, 23, 23, 16)       0         \n",
            " 2D)                                                             \n",
            "                                                                 \n",
            " conv2d_2 (Conv2D)           (None, 21, 21, 32)        4640      \n",
            "                                                                 \n",
            " max_pooling2d_2 (MaxPooling  (None, 10, 10, 32)       0         \n",
            " 2D)                                                             \n",
            "                                                                 \n",
            " dropout (Dropout)           (None, 10, 10, 32)        0         \n",
            "                                                                 \n",
            " flatten (Flatten)           (None, 3200)              0         \n",
            "                                                                 \n",
            " dense (Dense)               (None, 128)               409728    \n",
            "                                                                 \n",
            " dense_1 (Dense)             (None, 1)                 129       \n",
            "                                                                 \n",
            "=================================================================\n",
            "Total params: 415,889\n",
            "Trainable params: 415,889\n",
            "Non-trainable params: 0\n",
            "_________________________________________________________________\n"
          ]
        }
      ]
    },
    {
      "cell_type": "code",
      "source": [
        "nn_model.summary()"
      ],
      "metadata": {
        "id": "duy1JEZvr5yA",
        "outputId": "7485d00d-df55-4f2f-e3a7-e3c4ce0c72be",
        "colab": {
          "base_uri": "https://localhost:8080/"
        }
      },
      "execution_count": null,
      "outputs": [
        {
          "output_type": "stream",
          "name": "stdout",
          "text": [
            "Model: \"sequential_1\"\n",
            "_________________________________________________________________\n",
            " Layer (type)                Output Shape              Param #   \n",
            "=================================================================\n",
            " flatten_1 (Flatten)         (None, 30000)             0         \n",
            "                                                                 \n",
            " dense_2 (Dense)             (None, 2200)              66002200  \n",
            "                                                                 \n",
            " dense_3 (Dense)             (None, 1000)              2201000   \n",
            "                                                                 \n",
            " dense_4 (Dense)             (None, 90)                90090     \n",
            "                                                                 \n",
            " dense_5 (Dense)             (None, 1)                 91        \n",
            "                                                                 \n",
            "=================================================================\n",
            "Total params: 68,293,381\n",
            "Trainable params: 68,293,381\n",
            "Non-trainable params: 0\n",
            "_________________________________________________________________\n"
          ]
        }
      ]
    },
    {
      "cell_type": "code",
      "source": [
        "# LOSSES: categorical_crossentropy\n",
        "# OPTIMIZERS: tf.keras.optimizers.RMSprop(learning_rate=0.001)\n",
        "model.compile(loss='binary_crossentropy',\n",
        "              optimizer=tf.keras.optimizers.SGD(learning_rate=0.01),\n",
        "              metrics=['accuracy'])"
      ],
      "metadata": {
        "id": "4gx-gRxK5fBC"
      },
      "execution_count": null,
      "outputs": []
    },
    {
      "cell_type": "code",
      "source": [
        "nn_model.compile(loss=\"binary_crossentropy\",\n",
        "                 optimizer=\"sgd\", metrics=[\"accuracy\"])"
      ],
      "metadata": {
        "id": "IjP6t1FBs0gq"
      },
      "execution_count": null,
      "outputs": []
    },
    {
      "cell_type": "code",
      "source": [
        "# This is with numpy \n",
        "cnn_history_np = model.fit(x_train, y_train,\n",
        "                           epochs=4, validation_data=(x_test, y_test))"
      ],
      "metadata": {
        "id": "wkoT5cM6n9cs",
        "outputId": "8a5965e2-42c3-4d46-c6ee-3b6f990ef7de",
        "colab": {
          "base_uri": "https://localhost:8080/"
        }
      },
      "execution_count": null,
      "outputs": [
        {
          "output_type": "stream",
          "name": "stdout",
          "text": [
            "Epoch 1/4\n",
            "3/3 [==============================] - 2s 435ms/step - loss: 0.6789 - accuracy: 0.5000 - val_loss: 0.6550 - val_accuracy: 0.5000\n",
            "Epoch 2/4\n",
            "3/3 [==============================] - 2s 481ms/step - loss: 0.6637 - accuracy: 0.5000 - val_loss: 0.6496 - val_accuracy: 0.5000\n",
            "Epoch 3/4\n",
            "3/3 [==============================] - 1s 483ms/step - loss: 0.6554 - accuracy: 0.5000 - val_loss: 0.6397 - val_accuracy: 0.5000\n",
            "Epoch 4/4\n",
            "3/3 [==============================] - 1s 427ms/step - loss: 0.6443 - accuracy: 0.5000 - val_loss: 0.6321 - val_accuracy: 0.5000\n"
          ]
        }
      ]
    },
    {
      "cell_type": "code",
      "source": [
        "# This one is with default TF Datasets\n",
        "\n",
        "cnn_history = model.fit(\n",
        "    test,\n",
        "    epochs=5,\n",
        "    validation_data=val)"
      ],
      "metadata": {
        "colab": {
          "base_uri": "https://localhost:8080/"
        },
        "id": "-kHETBBh9iru",
        "outputId": "de5bfd0b-79f5-4388-bdb3-cc58915e4900"
      },
      "execution_count": null,
      "outputs": [
        {
          "output_type": "stream",
          "name": "stdout",
          "text": [
            "Epoch 1/5\n",
            "3/3 [==============================] - 2s 411ms/step - loss: 16670138.0000 - accuracy: 0.4750 - val_loss: 28760756224.0000 - val_accuracy: 0.6000\n",
            "Epoch 2/5\n",
            "3/3 [==============================] - 1s 290ms/step - loss: nan - accuracy: 0.5000 - val_loss: nan - val_accuracy: 0.4000\n",
            "Epoch 3/5\n",
            "3/3 [==============================] - 1s 164ms/step - loss: nan - accuracy: 0.5250 - val_loss: nan - val_accuracy: 0.4000\n",
            "Epoch 4/5\n",
            "3/3 [==============================] - 1s 165ms/step - loss: nan - accuracy: 0.5250 - val_loss: nan - val_accuracy: 0.4000\n",
            "Epoch 5/5\n",
            "3/3 [==============================] - 1s 165ms/step - loss: nan - accuracy: 0.5250 - val_loss: nan - val_accuracy: 0.4000\n"
          ]
        }
      ]
    },
    {
      "cell_type": "code",
      "source": [
        "nn_history = nn_model.fit(test, epochs=5, validation_data=val)"
      ],
      "metadata": {
        "id": "-bh1A9VVl9RB",
        "outputId": "bb00a5a1-f79e-4e6f-84f1-507a6719ddb9",
        "colab": {
          "base_uri": "https://localhost:8080/"
        }
      },
      "execution_count": null,
      "outputs": [
        {
          "output_type": "stream",
          "name": "stdout",
          "text": [
            "Epoch 1/5\n",
            "3/3 [==============================] - 2s 533ms/step - loss: 1591381458944.0000 - accuracy: 0.5500 - val_loss: 15063544332136753397760.0000 - val_accuracy: 0.6000\n",
            "Epoch 2/5\n",
            "3/3 [==============================] - 2s 726ms/step - loss: nan - accuracy: 0.5250 - val_loss: nan - val_accuracy: 0.4000\n",
            "Epoch 3/5\n",
            "3/3 [==============================] - 2s 488ms/step - loss: nan - accuracy: 0.5250 - val_loss: nan - val_accuracy: 0.4000\n",
            "Epoch 4/5\n",
            "3/3 [==============================] - 1s 459ms/step - loss: nan - accuracy: 0.5250 - val_loss: nan - val_accuracy: 0.4000\n",
            "Epoch 5/5\n",
            "3/3 [==============================] - 1s 461ms/step - loss: nan - accuracy: 0.5250 - val_loss: nan - val_accuracy: 0.4000\n"
          ]
        }
      ]
    },
    {
      "cell_type": "code",
      "source": [
        "nn_history_np = nn_model.fit(x_train, y_train, epochs=4, validation_data=(x_test, y_test))"
      ],
      "metadata": {
        "id": "_Mz-Oyn5tOCh",
        "outputId": "85b1b49a-2f5e-4316-bd04-086763808332",
        "colab": {
          "base_uri": "https://localhost:8080/"
        }
      },
      "execution_count": null,
      "outputs": [
        {
          "output_type": "stream",
          "name": "stdout",
          "text": [
            "Epoch 1/4\n",
            "3/3 [==============================] - 2s 557ms/step - loss: nan - accuracy: 0.5000 - val_loss: nan - val_accuracy: 0.5000\n",
            "Epoch 2/4\n",
            "3/3 [==============================] - 1s 459ms/step - loss: nan - accuracy: 0.5000 - val_loss: nan - val_accuracy: 0.5000\n",
            "Epoch 3/4\n",
            "3/3 [==============================] - 1s 464ms/step - loss: nan - accuracy: 0.5000 - val_loss: nan - val_accuracy: 0.5000\n",
            "Epoch 4/4\n",
            "3/3 [==============================] - 2s 657ms/step - loss: nan - accuracy: 0.5000 - val_loss: nan - val_accuracy: 0.5000\n"
          ]
        }
      ]
    },
    {
      "cell_type": "code",
      "source": [
        "accuracy = cnn_history.history[\"accuracy\"]\n",
        "val_accuracy = cnn_history.history[\"val_accuracy\"]\n",
        "loss = cnn_history.history[\"loss\"]\n",
        "val_loss = cnn_history.history[\"val_loss\"]\n",
        "epochs = range(1, len(accuracy) + 1)\n",
        "\n",
        "plt.plot(epochs, accuracy, \"r\", label=\"Training accuracy\")\n",
        "plt.plot(epochs, val_accuracy, \"b\", label=\"Validation accuracy\")\n",
        "plt.title(\"Training and validation accuracy\")\n",
        "plt.legend()\n",
        "plt.figure()\n",
        "plt.plot(epochs, loss, \"r\", label=\"Training loss\")\n",
        "plt.plot(epochs, val_loss, \"b\", label=\"Validation loss\")\n",
        "plt.title(\"Training and validation loss\")\n",
        "plt.legend()\n",
        "plt.show()"
      ],
      "metadata": {
        "colab": {
          "base_uri": "https://localhost:8080/",
          "height": 545
        },
        "id": "eoIrZeUx-mLW",
        "outputId": "b64e9f34-09f7-4e20-99d1-d45facc19e1d"
      },
      "execution_count": null,
      "outputs": [
        {
          "output_type": "display_data",
          "data": {
            "text/plain": [
              "<Figure size 432x288 with 1 Axes>"
            ],
            "image/png": "[encoded data removed]"
          },
          "metadata": {
            "needs_background": "light"
          }
        },
        {
          "output_type": "display_data",
          "data": {
            "text/plain": [
              "<Figure size 432x288 with 1 Axes>"
            ],
            "image/png": "[encoded data removed]"
          },
          "metadata": {
            "needs_background": "light"
          }
        }
      ]
    },
    {
      "cell_type": "code",
      "source": [
        "accuracy = nn_history.history[\"accuracy\"]\n",
        "val_accuracy = nn_history.history[\"val_accuracy\"]\n",
        "loss = nn_history.history[\"loss\"]\n",
        "val_loss = nn_history.history[\"val_loss\"]\n",
        "epochs = range(1, len(accuracy) + 1)\n",
        "\n",
        "plt.plot(epochs, accuracy, \"r\", label=\"Training accuracy\")\n",
        "plt.plot(epochs, val_accuracy, \"b\", label=\"Validation accuracy\")\n",
        "plt.title(\"Training and validation accuracy\")\n",
        "plt.legend()\n",
        "plt.figure()\n",
        "plt.plot(epochs, loss, \"r\", label=\"Training loss\")\n",
        "plt.plot(epochs, val_loss, \"b\", label=\"Validation loss\")\n",
        "plt.title(\"Training and validation loss\")\n",
        "plt.legend()\n",
        "plt.show()"
      ],
      "metadata": {
        "id": "6YX6LBACbszl",
        "outputId": "fb4a52cf-bddf-4772-f957-99682b4df61a",
        "colab": {
          "base_uri": "https://localhost:8080/",
          "height": 545
        }
      },
      "execution_count": null,
      "outputs": [
        {
          "output_type": "display_data",
          "data": {
            "text/plain": [
              "<Figure size 432x288 with 1 Axes>"
            ],
            "image/png": "[encoded data removed]"
          },
          "metadata": {
            "needs_background": "light"
          }
        },
        {
          "output_type": "display_data",
          "data": {
            "text/plain": [
              "<Figure size 432x288 with 1 Axes>"
            ],
            "image/png": "[encoded data removed]"
          },
          "metadata": {
            "needs_background": "light"
          }
        }
      ]
    },
    {
      "cell_type": "code",
      "source": [
        "accuracy = nn_history_np.history[\"accuracy\"]\n",
        "val_accuracy = nn_history_np.history[\"val_accuracy\"]\n",
        "loss = nn_history_np.history[\"loss\"]\n",
        "val_loss = nn_history_np.history[\"val_loss\"]\n",
        "epochs = range(1, len(accuracy) + 1)\n",
        "\n",
        "plt.plot(epochs, accuracy, \"r\", label=\"Training accuracy\")\n",
        "plt.plot(epochs, val_accuracy, \"b\", label=\"Validation accuracy\")\n",
        "plt.title(\"Training and validation accuracy\")\n",
        "plt.legend()\n",
        "plt.figure()\n",
        "plt.plot(epochs, loss, \"r\", label=\"Training loss\")\n",
        "plt.plot(epochs, val_loss, \"b\", label=\"Validation loss\")\n",
        "plt.title(\"Training and validation loss\")\n",
        "plt.legend()\n",
        "plt.show()"
      ],
      "metadata": {
        "id": "BVRVwcKBs-8e",
        "outputId": "62ce27de-6c2b-45af-cb43-d07b8f4cce3d",
        "colab": {
          "base_uri": "https://localhost:8080/",
          "height": 545
        }
      },
      "execution_count": null,
      "outputs": [
        {
          "output_type": "display_data",
          "data": {
            "text/plain": [
              "<Figure size 432x288 with 1 Axes>"
            ],
            "image/png": "[encoded data removed]"
          },
          "metadata": {
            "needs_background": "light"
          }
        },
        {
          "output_type": "display_data",
          "data": {
            "text/plain": [
              "<Figure size 432x288 with 1 Axes>"
            ],
            "image/png": "[encoded data removed]"
          },
          "metadata": {
            "needs_background": "light"
          }
        }
      ]
    },
    {
      "cell_type": "markdown",
      "source": [
        "Note: These models don't seem to work very well, so instead we use dcnn and vgg16 for _feature extraction_ and then reshape it so that we can feed it through __SVM__ classifier."
      ],
      "metadata": {
        "id": "VDNOcR7L_fTv"
      }
    },
    {
      "cell_type": "markdown",
      "source": [
        "# PART III\n",
        "# USING SVM"
      ],
      "metadata": {
        "id": "xRxJ13CRt6eU"
      }
    },
    {
      "cell_type": "code",
      "source": [
        "# Normal convolutional neural netowrk just for getting the features out of a\n",
        "# picutre.\n",
        "\n",
        "# The architecture is as follows:\n",
        "# CONV 2D -> MaxPooling -> CONV2D -> CONV2D -> MaxPooling -> BatchNorm\n",
        "# Initially I didn't include batch normalization, however SVM classifier\n",
        "# wouldn't converge if we didn't normalize the final data.\n",
        "\n",
        "fx_model = Sequential([\n",
        "    layers.Conv2D(filters=8,kernel_size=(3,3),  input_shape = (100, 100, 3),activation='relu'),\n",
        "    layers.MaxPooling2D(pool_size=(2,2)),\n",
        "\n",
        "    layers.Conv2D(filters=16,kernel_size=(3,3), activation='relu'),\n",
        "    # layers.MaxPooling2D(pool_size=(2,2)),\n",
        "\n",
        "    layers.Conv2D(filters=32,kernel_size=(3,3), activation='relu'),\n",
        "    layers.MaxPooling2D(pool_size=(2,2)),\n",
        "    layers.BatchNormalization()\n",
        "])"
      ],
      "metadata": {
        "id": "QLjBAxWn09Kl"
      },
      "execution_count": null,
      "outputs": []
    },
    {
      "cell_type": "code",
      "source": [
        "fx_model.summary()"
      ],
      "metadata": {
        "id": "JS7uCoeM1MnF",
        "outputId": "25c5532b-6704-4329-f189-8f74b1ee3655",
        "colab": {
          "base_uri": "https://localhost:8080/"
        }
      },
      "execution_count": null,
      "outputs": [
        {
          "output_type": "stream",
          "name": "stdout",
          "text": [
            "Model: \"sequential_1\"\n",
            "_________________________________________________________________\n",
            " Layer (type)                Output Shape              Param #   \n",
            "=================================================================\n",
            " conv2d_3 (Conv2D)           (None, 98, 98, 8)         224       \n",
            "                                                                 \n",
            " max_pooling2d_2 (MaxPooling  (None, 49, 49, 8)        0         \n",
            " 2D)                                                             \n",
            "                                                                 \n",
            " conv2d_4 (Conv2D)           (None, 47, 47, 16)        1168      \n",
            "                                                                 \n",
            " conv2d_5 (Conv2D)           (None, 45, 45, 32)        4640      \n",
            "                                                                 \n",
            " max_pooling2d_3 (MaxPooling  (None, 22, 22, 32)       0         \n",
            " 2D)                                                             \n",
            "                                                                 \n",
            " batch_normalization_1 (Batc  (None, 22, 22, 32)       128       \n",
            " hNormalization)                                                 \n",
            "                                                                 \n",
            "=================================================================\n",
            "Total params: 6,160\n",
            "Trainable params: 6,096\n",
            "Non-trainable params: 64\n",
            "_________________________________________________________________\n"
          ]
        }
      ]
    },
    {
      "cell_type": "code",
      "source": [
        "fx_model.compile(loss='binary_crossentropy',\n",
        "              optimizer=tf.keras.optimizers.SGD(learning_rate=0.01),\n",
        "              metrics=['accuracy'])\n"
      ],
      "metadata": {
        "id": "sZ-attkF1O_E"
      },
      "execution_count": null,
      "outputs": []
    },
    {
      "cell_type": "code",
      "source": [
        "type(x_train)\n"
      ],
      "metadata": {
        "colab": {
          "base_uri": "https://localhost:8080/"
        },
        "id": "gRvcoEo4kBpL",
        "outputId": "78a5c050-7a14-4edb-e9c1-197120f60a15"
      },
      "execution_count": null,
      "outputs": [
        {
          "output_type": "execute_result",
          "data": {
            "text/plain": [
              "numpy.ndarray"
            ]
          },
          "metadata": {},
          "execution_count": 91
        }
      ]
    },
    {
      "cell_type": "code",
      "source": [
        "# Getting the features out of the dcnn and adding it all to a np array.\n",
        "\n",
        "fx_features = []\n",
        "fx_features.append(fx_model.predict(x = x_train))\n",
        "fx_features.append(fx_model.predict(x = x_test))\n",
        "fx_features = np.concatenate(fx_features)\n",
        "fx_features.shape"
      ],
      "metadata": {
        "id": "psa5vCWz1ekv",
        "outputId": "fe3048bd-7719-49ed-e4b1-d695c5a69191",
        "colab": {
          "base_uri": "https://localhost:8080/"
        }
      },
      "execution_count": null,
      "outputs": [
        {
          "output_type": "stream",
          "name": "stdout",
          "text": [
            "19/19 [==============================] - 3s 126ms/step\n",
            "5/5 [==============================] - 1s 115ms/step\n"
          ]
        },
        {
          "output_type": "execute_result",
          "data": {
            "text/plain": [
              "(750, 22, 22, 32)"
            ]
          },
          "metadata": {},
          "execution_count": 92
        }
      ]
    },
    {
      "cell_type": "code",
      "source": [
        "# Same for the labels\n",
        "\n",
        "fx_labels = []\n",
        "fx_labels.append(y_train)\n",
        "fx_labels.append(y_test)\n",
        "fx_labels = np.concatenate(fx_labels)\n",
        "fx_labels.shape"
      ],
      "metadata": {
        "id": "yv0qbNF51pxK",
        "outputId": "b788d0b3-16bc-4cee-a57f-5a1d78d9caa6",
        "colab": {
          "base_uri": "https://localhost:8080/"
        }
      },
      "execution_count": null,
      "outputs": [
        {
          "output_type": "execute_result",
          "data": {
            "text/plain": [
              "(750,)"
            ]
          },
          "metadata": {},
          "execution_count": 93
        }
      ]
    },
    {
      "cell_type": "code",
      "source": [
        "# Reshaping and splitting the data for using them\n",
        "# in the svm classifier.\n",
        "svm_x_train, svm_x_test, svm_y_train, svm_y_test = train_test_split(fx_features, fx_labels, test_size=0.2,random_state=42,stratify=fx_labels)"
      ],
      "metadata": {
        "id": "dbfxnFqn3NxH"
      },
      "execution_count": null,
      "outputs": []
    },
    {
      "cell_type": "code",
      "source": [
        "svm_x_train.shape"
      ],
      "metadata": {
        "colab": {
          "base_uri": "https://localhost:8080/"
        },
        "id": "SX1V0csdn14Q",
        "outputId": "8295cea3-6cb2-4b3e-fef7-9701b4e9cdcb"
      },
      "execution_count": null,
      "outputs": [
        {
          "output_type": "execute_result",
          "data": {
            "text/plain": [
              "(600, 22, 22, 32)"
            ]
          },
          "metadata": {},
          "execution_count": 95
        }
      ]
    },
    {
      "cell_type": "code",
      "source": [
        "# Since the data is 4 dimentional data. We have to reshape it to 2D for svm.\n",
        "flat_svm_x_train = svm_x_train.reshape(600, -1)\n",
        "flat_svm_x_test = svm_x_test.reshape(150, -1)"
      ],
      "metadata": {
        "id": "B8EPzIFt4RvM"
      },
      "execution_count": null,
      "outputs": []
    },
    {
      "cell_type": "code",
      "source": [
        "# Getting the results.\n",
        "\n",
        "svm_clf = Pipeline([\n",
        "    (\"scaler\", StandardScaler()),\n",
        "    (\"linear_svc\", LinearSVC(C=1, loss=\"hinge\")),\n",
        "    ])\n",
        "\n",
        "# vgg_svc = LinearSVC(C=1, loss='hinge')\n",
        "svm_clf.fit(flat_svm_x_train, svm_y_train)\n",
        "\n",
        "svc_y_pred = svm_clf.predict(flat_svm_x_test)\n",
        "print(\"The predicted Data is :\")\n",
        "print(svc_y_pred)\n",
        "print(\"The actual data is:\")\n",
        "print(np.array(svm_y_test))\n",
        "print(f'The model is {accuracy_score(svc_y_pred, svm_y_test) * 100} accurate.')"
      ],
      "metadata": {
        "colab": {
          "base_uri": "https://localhost:8080/"
        },
        "id": "LKa_8_Hyn_RF",
        "outputId": "df8992a3-b6ff-4e78-deab-4f08f86f87d6"
      },
      "execution_count": null,
      "outputs": [
        {
          "output_type": "stream",
          "name": "stdout",
          "text": [
            "The predicted Data is :\n",
            "[1 0 0 1 1 1 0 1 1 1 1 1 1 1 1 1 0 1 1 0 1 1 1 0 1 0 1 1 0 1 0 1 1 1 1 0 1\n",
            " 0 1 1 1 1 0 1 1 1 0 0 0 0 1 1 1 0 0 1 1 0 1 0 0 1 0 0 1 1 1 1 1 1 1 1 1 0\n",
            " 0 0 0 1 1 1 1 1 0 1 1 1 1 1 0 0 1 1 1 0 1 0 1 1 1 1 1 1 1 1 1 1 0 1 1 0 0\n",
            " 0 1 1 1 1 1 1 0 0 1 0 0 1 1 1 1 0 1 0 0 0 1 0 0 1 1 1 1 1 1 1 1 0 1 1 1 1\n",
            " 0 1]\n",
            "The actual data is:\n",
            "[1 1 1 1 1 1 1 1 1 1 1 1 1 1 1 1 1 1 1 0 1 1 1 1 1 0 1 1 1 1 1 1 1 1 1 1 1\n",
            " 1 1 1 1 1 1 1 1 1 1 0 0 1 1 1 1 1 1 1 1 1 1 1 1 1 1 1 1 1 1 1 1 1 1 1 1 1\n",
            " 1 1 1 1 1 1 1 1 0 1 1 1 1 1 1 0 1 1 1 1 1 1 1 1 1 1 1 1 1 1 1 1 1 0 1 1 1\n",
            " 0 1 1 1 1 1 1 1 0 1 1 1 1 1 1 1 1 1 1 1 1 1 0 1 1 1 1 1 1 1 1 1 1 1 1 1 1\n",
            " 1 1]\n",
            "The model is 73.33333333333333 accurate.\n"
          ]
        }
      ]
    },
    {
      "cell_type": "code",
      "source": [
        "precision_recall_fscore_support(svm_y_test, svc_y_pred, average='binary')"
      ],
      "metadata": {
        "colab": {
          "base_uri": "https://localhost:8080/"
        },
        "id": "-gmDnjyjrifW",
        "outputId": "f915b04f-8096-4382-babb-076c8dc58a83"
      },
      "execution_count": null,
      "outputs": [
        {
          "output_type": "execute_result",
          "data": {
            "text/plain": [
              "(0.9901960784313726, 0.7214285714285714, 0.8347107438016529, None)"
            ]
          },
          "metadata": {},
          "execution_count": 98
        }
      ]
    },
    {
      "cell_type": "code",
      "source": [
        "conf_matrix = confusion_matrix(y_true=svm_y_test, y_pred=svc_y_pred)\n",
        "fig, ax = plt.subplots(figsize=(5, 5))\n",
        "ax.matshow(conf_matrix, cmap=plt.cm.Oranges, alpha=0.3)\n",
        "for i in range(conf_matrix.shape[0]):\n",
        "    for j in range(conf_matrix.shape[1]):\n",
        "        ax.text(x=j, y=i,s=conf_matrix[i, j], va='center', ha='center', size='xx-large')\n",
        " \n",
        "plt.xlabel('Predictions', fontsize=18)\n",
        "plt.ylabel('Actuals', fontsize=18)\n",
        "plt.title('Confusion Matrix', fontsize=18)\n",
        "plt.show()"
      ],
      "metadata": {
        "colab": {
          "base_uri": "https://localhost:8080/",
          "height": 358
        },
        "id": "63lmy4xSrtoy",
        "outputId": "34a3d50e-94d0-4bda-9851-d2689a4bacb8"
      },
      "execution_count": null,
      "outputs": [
        {
          "output_type": "display_data",
          "data": {
            "text/plain": [
              "<Figure size 360x360 with 1 Axes>"
            ],
            "image/png": "[encoded data removed]"
          },
          "metadata": {
            "needs_background": "light"
          }
        }
      ]
    },
    {
      "cell_type": "code",
      "source": [
        "# Using KERNEL SVC\n",
        "\n",
        "rbf_kernel_svm_clf = Pipeline([\n",
        "    (\"scaler\", StandardScaler()),\n",
        "    (\"svm_clf\", SVC(kernel=\"rbf\", gamma=1, C=0.001)) ])\n",
        "\n",
        "\n",
        "rbf_kernel_svm_clf.fit(flat_svm_x_train, svm_y_train)\n",
        "\n",
        "ksvm_y_pred = rbf_kernel_svm_clf.predict(flat_svm_x_test)\n",
        "print(\"The predicted Data is :\")\n",
        "print(ksvm_y_pred)\n",
        "print(\"The actual data is:\")\n",
        "print(np.array(svm_y_test))\n",
        "print(f'The model is {accuracy_score(ksvm_y_pred, svm_y_test) * 100} accurate.')"
      ],
      "metadata": {
        "colab": {
          "base_uri": "https://localhost:8080/"
        },
        "id": "qFDBP-K_pJo3",
        "outputId": "30fc24f8-1746-44ae-c7e1-a6a7125ed513"
      },
      "execution_count": null,
      "outputs": [
        {
          "output_type": "stream",
          "name": "stdout",
          "text": [
            "The predicted Data is :\n",
            "[1 1 1 1 1 1 1 1 1 1 1 1 1 1 1 1 1 1 1 1 1 1 1 1 1 1 1 1 1 1 1 1 1 1 1 1 1\n",
            " 1 1 1 1 1 1 1 1 1 1 1 1 1 1 1 1 1 1 1 1 1 1 1 1 1 1 1 1 1 1 1 1 1 1 1 1 1\n",
            " 1 1 1 1 1 1 1 1 1 1 1 1 1 1 1 1 1 1 1 1 1 1 1 1 1 1 1 1 1 1 1 1 1 1 1 1 1\n",
            " 1 1 1 1 1 1 1 1 1 1 1 1 1 1 1 1 1 1 1 1 1 1 1 1 1 1 1 1 1 1 1 1 1 1 1 1 1\n",
            " 1 1]\n",
            "The actual data is:\n",
            "[1 1 1 1 1 1 1 1 1 1 1 1 1 1 1 1 1 1 1 0 1 1 1 1 1 0 1 1 1 1 1 1 1 1 1 1 1\n",
            " 1 1 1 1 1 1 1 1 1 1 0 0 1 1 1 1 1 1 1 1 1 1 1 1 1 1 1 1 1 1 1 1 1 1 1 1 1\n",
            " 1 1 1 1 1 1 1 1 0 1 1 1 1 1 1 0 1 1 1 1 1 1 1 1 1 1 1 1 1 1 1 1 1 0 1 1 1\n",
            " 0 1 1 1 1 1 1 1 0 1 1 1 1 1 1 1 1 1 1 1 1 1 0 1 1 1 1 1 1 1 1 1 1 1 1 1 1\n",
            " 1 1]\n",
            "The model is 93.33333333333333 accurate.\n"
          ]
        }
      ]
    },
    {
      "cell_type": "code",
      "source": [
        "precision_recall_fscore_support(svm_y_test, ksvm_y_pred, average='binary')"
      ],
      "metadata": {
        "colab": {
          "base_uri": "https://localhost:8080/"
        },
        "id": "iOxRS29grC7-",
        "outputId": "1db9d962-953c-464f-b461-c15ed8130da0"
      },
      "execution_count": null,
      "outputs": [
        {
          "output_type": "execute_result",
          "data": {
            "text/plain": [
              "(0.9333333333333333, 1.0, 0.9655172413793104, None)"
            ]
          },
          "metadata": {},
          "execution_count": 107
        }
      ]
    },
    {
      "cell_type": "code",
      "source": [
        "conf_matrix = confusion_matrix(y_true=svm_y_test, y_pred=ksvm_y_pred)\n",
        "fig, ax = plt.subplots(figsize=(5, 5))\n",
        "ax.matshow(conf_matrix, cmap=plt.cm.Oranges, alpha=0.3)\n",
        "for i in range(conf_matrix.shape[0]):\n",
        "    for j in range(conf_matrix.shape[1]):\n",
        "        ax.text(x=j, y=i,s=conf_matrix[i, j], va='center', ha='center', size='xx-large')\n",
        " \n",
        "plt.xlabel('Predictions', fontsize=18)\n",
        "plt.ylabel('Actuals', fontsize=18)\n",
        "plt.title('Kernel SVC Confusion Matrix', fontsize=18)\n",
        "plt.show()"
      ],
      "metadata": {
        "colab": {
          "base_uri": "https://localhost:8080/",
          "height": 358
        },
        "id": "ROyGMpjLqDNc",
        "outputId": "3e7c2f4a-243b-4464-870b-e1d075195601"
      },
      "execution_count": null,
      "outputs": [
        {
          "output_type": "display_data",
          "data": {
            "text/plain": [
              "<Figure size 360x360 with 1 Axes>"
            ],
            "image/png": "[encoded data removed]"
          },
          "metadata": {
            "needs_background": "light"
          }
        }
      ]
    },
    {
      "cell_type": "code",
      "source": [
        "from sklearn.model_selection import GridSearchCV\n",
        "\n",
        "param_grid = [{'C': [0.001, 1, 5, 20], 'gamma': [1, 5]}]\n",
        "kscv = SVC(kernel=\"rbf\", gamma=5, C=0.001)\n",
        "\n",
        "grid_search = GridSearchCV(kscv, param_grid, cv=2, scoring='accuracy',\n",
        "                           return_train_score=True)\n",
        "\n",
        "grid_search.fit(flat_svm_x_train, svm_y_train)\n",
        "\n",
        "grid_search.best_params_"
      ],
      "metadata": {
        "colab": {
          "base_uri": "https://localhost:8080/"
        },
        "id": "Uj7S90rdoLSD",
        "outputId": "3e0c4cbe-dbc4-43c4-a1e3-00aa18d3341a"
      },
      "execution_count": null,
      "outputs": [
        {
          "output_type": "execute_result",
          "data": {
            "text/plain": [
              "{'C': 0.001, 'gamma': 1}"
            ]
          },
          "metadata": {},
          "execution_count": 63
        }
      ]
    },
    {
      "cell_type": "markdown",
      "source": [
        "## Second way of feature extraction using VGG16 pretrained model."
      ],
      "metadata": {
        "id": "lrK5OEl8BHkL"
      }
    },
    {
      "cell_type": "code",
      "source": [
        "# First we have to download the vgg16 model and give the weights, while\n",
        "# removing the top classifier part.\n",
        "conv_base = keras.applications.vgg16.VGG16(weights='imagenet',\n",
        "                                           include_top=False,\n",
        "                                           input_shape=(100, 100, 3))\n",
        "conv_base.summary()"
      ],
      "metadata": {
        "id": "BsXWLjyOt-Ig",
        "outputId": "4ed5d76a-3700-4cfa-da6f-1367818a42be",
        "colab": {
          "base_uri": "https://localhost:8080/"
        }
      },
      "execution_count": null,
      "outputs": [
        {
          "output_type": "stream",
          "name": "stdout",
          "text": [
            "Downloading data from https://storage.googleapis.com/tensorflow/keras-applications/vgg16/vgg16_weights_tf_dim_ordering_tf_kernels_notop.h5\n",
            "58889256/58889256 [==============================] - 0s 0us/step\n",
            "Model: \"vgg16\"\n",
            "_________________________________________________________________\n",
            " Layer (type)                Output Shape              Param #   \n",
            "=================================================================\n",
            " input_1 (InputLayer)        [(None, 100, 100, 3)]     0         \n",
            "                                                                 \n",
            " block1_conv1 (Conv2D)       (None, 100, 100, 64)      1792      \n",
            "                                                                 \n",
            " block1_conv2 (Conv2D)       (None, 100, 100, 64)      36928     \n",
            "                                                                 \n",
            " block1_pool (MaxPooling2D)  (None, 50, 50, 64)        0         \n",
            "                                                                 \n",
            " block2_conv1 (Conv2D)       (None, 50, 50, 128)       73856     \n",
            "                                                                 \n",
            " block2_conv2 (Conv2D)       (None, 50, 50, 128)       147584    \n",
            "                                                                 \n",
            " block2_pool (MaxPooling2D)  (None, 25, 25, 128)       0         \n",
            "                                                                 \n",
            " block3_conv1 (Conv2D)       (None, 25, 25, 256)       295168    \n",
            "                                                                 \n",
            " block3_conv2 (Conv2D)       (None, 25, 25, 256)       590080    \n",
            "                                                                 \n",
            " block3_conv3 (Conv2D)       (None, 25, 25, 256)       590080    \n",
            "                                                                 \n",
            " block3_pool (MaxPooling2D)  (None, 12, 12, 256)       0         \n",
            "                                                                 \n",
            " block4_conv1 (Conv2D)       (None, 12, 12, 512)       1180160   \n",
            "                                                                 \n",
            " block4_conv2 (Conv2D)       (None, 12, 12, 512)       2359808   \n",
            "                                                                 \n",
            " block4_conv3 (Conv2D)       (None, 12, 12, 512)       2359808   \n",
            "                                                                 \n",
            " block4_pool (MaxPooling2D)  (None, 6, 6, 512)         0         \n",
            "                                                                 \n",
            " block5_conv1 (Conv2D)       (None, 6, 6, 512)         2359808   \n",
            "                                                                 \n",
            " block5_conv2 (Conv2D)       (None, 6, 6, 512)         2359808   \n",
            "                                                                 \n",
            " block5_conv3 (Conv2D)       (None, 6, 6, 512)         2359808   \n",
            "                                                                 \n",
            " block5_pool (MaxPooling2D)  (None, 3, 3, 512)         0         \n",
            "                                                                 \n",
            "=================================================================\n",
            "Total params: 14,714,688\n",
            "Trainable params: 14,714,688\n",
            "Non-trainable params: 0\n",
            "_________________________________________________________________\n"
          ]
        }
      ]
    },
    {
      "cell_type": "code",
      "source": [
        "# Just a helper method like the one before for getting features out\n",
        "# of vgg model and preparing it for the svm.\n",
        "\n",
        "def get_features_and_labels(dataset):\n",
        "  all_features = []\n",
        "  all_labels = []\n",
        "  for images, labels in dataset:\n",
        "    preprocesses_images = keras.applications.vgg16.preprocess_input(images)\n",
        "    features = conv_base.predict(preprocesses_images)\n",
        "    all_features.append(features)\n",
        "    all_labels.append(labels)\n",
        "  return np.concatenate(all_features), np.concatenate(all_labels)"
      ],
      "metadata": {
        "id": "m41OA8UsyYGO"
      },
      "execution_count": null,
      "outputs": []
    },
    {
      "cell_type": "code",
      "source": [
        "# Sine we can feed the whole data set to vgg, we don't have to use the splitted \n",
        "# dataset for prediction. And now the new complete dataset is created.\n",
        "data_for_vgg = image_dataset_from_directory('.',\n",
        "                                            class_names=['fruits', 'rc2',\n",
        "                                                         'rc3', 'rc4',\n",
        "                                                         'rc5', 'rc6', 'rc7',\n",
        "                                                         'rc8', 'rc9', 'rc10',\n",
        "                                                         'rc11', 'rc12', 'rc13',\n",
        "                                                         'rc14', 'rc15'],\n",
        "                                            seed = 42, image_size=(100, 100))"
      ],
      "metadata": {
        "id": "jWxVniU0_EhL",
        "outputId": "ef954847-3309-47b9-c206-3ac7befb8176",
        "colab": {
          "base_uri": "https://localhost:8080/"
        }
      },
      "execution_count": null,
      "outputs": [
        {
          "output_type": "stream",
          "name": "stdout",
          "text": [
            "Found 750 files belonging to 15 classes.\n"
          ]
        }
      ]
    },
    {
      "cell_type": "code",
      "source": [
        "# Getting the features\n",
        "\n",
        "vgg_features, vgg_label = get_features_and_labels(data_for_vgg)"
      ],
      "metadata": {
        "id": "Z-QxEDOa2HxA",
        "outputId": "ce396f88-330f-4071-be6f-1897b41f1fdc",
        "colab": {
          "base_uri": "https://localhost:8080/"
        }
      },
      "execution_count": null,
      "outputs": [
        {
          "output_type": "stream",
          "name": "stdout",
          "text": [
            "1/1 [==============================] - 4s 4s/step\n",
            "1/1 [==============================] - 3s 3s/step\n",
            "1/1 [==============================] - 3s 3s/step\n",
            "1/1 [==============================] - 6s 6s/step\n",
            "1/1 [==============================] - 3s 3s/step\n",
            "1/1 [==============================] - 3s 3s/step\n",
            "1/1 [==============================] - 4s 4s/step\n",
            "1/1 [==============================] - 5s 5s/step\n",
            "1/1 [==============================] - 3s 3s/step\n",
            "1/1 [==============================] - 3s 3s/step\n",
            "1/1 [==============================] - 8s 8s/step\n",
            "1/1 [==============================] - 3s 3s/step\n",
            "1/1 [==============================] - 3s 3s/step\n",
            "1/1 [==============================] - 5s 5s/step\n",
            "1/1 [==============================] - 3s 3s/step\n",
            "1/1 [==============================] - 3s 3s/step\n",
            "1/1 [==============================] - 3s 3s/step\n",
            "1/1 [==============================] - 6s 6s/step\n",
            "1/1 [==============================] - 5s 5s/step\n",
            "1/1 [==============================] - 3s 3s/step\n",
            "1/1 [==============================] - 3s 3s/step\n",
            "1/1 [==============================] - 5s 5s/step\n",
            "1/1 [==============================] - 4s 4s/step\n",
            "1/1 [==============================] - 1s 1s/step\n"
          ]
        }
      ]
    },
    {
      "cell_type": "code",
      "source": [
        "print(np.unique(vgg_label))\n",
        "lbl_cond = vgg_label > 1\n",
        "vgg_label[lbl_cond] = 1\n",
        "print(np.unique(vgg_label))"
      ],
      "metadata": {
        "id": "1Z0ifALexJcI",
        "colab": {
          "base_uri": "https://localhost:8080/"
        },
        "outputId": "40698112-e106-4aae-c361-4d9b8885b05b"
      },
      "execution_count": null,
      "outputs": [
        {
          "output_type": "stream",
          "name": "stdout",
          "text": [
            "[ 0  1  2  3  4  5  6  7  8  9 10 11 12 13 14]\n",
            "[0 1]\n"
          ]
        }
      ]
    },
    {
      "cell_type": "code",
      "source": [
        "vgg_features.shape"
      ],
      "metadata": {
        "colab": {
          "base_uri": "https://localhost:8080/"
        },
        "id": "4uKElW6ex_tu",
        "outputId": "05437ad7-7e01-4c6e-e2d9-6577867ca72f"
      },
      "execution_count": null,
      "outputs": [
        {
          "output_type": "execute_result",
          "data": {
            "text/plain": [
              "(750, 3, 3, 512)"
            ]
          },
          "metadata": {},
          "execution_count": 112
        }
      ]
    },
    {
      "cell_type": "code",
      "source": [
        "# Reshaping it for the svm.\n",
        "\n",
        "vgg_features = vgg_features.reshape(750, -1)\n",
        "vgg_features.shape"
      ],
      "metadata": {
        "id": "S_meyNOq_wb5",
        "outputId": "596708ab-34af-47a4-fbd2-afb8e237ac30",
        "colab": {
          "base_uri": "https://localhost:8080/"
        }
      },
      "execution_count": null,
      "outputs": [
        {
          "output_type": "execute_result",
          "data": {
            "text/plain": [
              "(750, 4608)"
            ]
          },
          "metadata": {},
          "execution_count": 113
        }
      ]
    },
    {
      "cell_type": "code",
      "source": [
        "# Preparing for svm.\n",
        "\n",
        "vgg_x_train, vgg_x_test, vgg_y_train, vgg_y_test  = train_test_split(vgg_features, vgg_label, test_size=0.2,random_state=42,stratify=vgg_label)"
      ],
      "metadata": {
        "id": "HiCjZ6PL_c31"
      },
      "execution_count": null,
      "outputs": []
    },
    {
      "cell_type": "code",
      "source": [
        "# Getting the results.\n",
        "\n",
        "vgg_svm_clf = Pipeline([\n",
        "    (\"scaler\", StandardScaler()),\n",
        "    (\"linear_svc\", SVC(kernel=\"rbf\", gamma=1, C=0.001))\n",
        "    ])\n",
        "\n",
        "# vgg_svc = LinearSVC(C=1, loss='hinge')\n",
        "vgg_svm_clf.fit(vgg_x_train, vgg_y_train)\n",
        "\n",
        "vgg_y_pred = vgg_svm_clf.predict(vgg_x_test)\n",
        "print(\"The predicted Data is :\")\n",
        "print(vgg_y_pred)\n",
        "print(\"The actual data is:\")\n",
        "print(np.array(vgg_y_test))\n",
        "print(f'The model is {accuracy_score(vgg_y_pred, vgg_y_test) * 100} accurate.')"
      ],
      "metadata": {
        "id": "dQ0H5Y9L95M-",
        "outputId": "abe81388-4066-4b95-e41b-958676280e41",
        "colab": {
          "base_uri": "https://localhost:8080/"
        }
      },
      "execution_count": null,
      "outputs": [
        {
          "output_type": "stream",
          "name": "stdout",
          "text": [
            "The predicted Data is :\n",
            "[1 1 1 1 1 1 1 1 1 1 1 1 1 1 1 1 1 1 1 1 1 1 1 1 1 1 1 1 1 1 1 1 1 1 1 1 1\n",
            " 1 1 1 1 1 1 1 1 1 1 1 1 1 1 1 1 1 1 1 1 1 1 1 1 1 1 1 1 1 1 1 1 1 1 1 1 1\n",
            " 1 1 1 1 1 1 1 1 1 1 1 1 1 1 1 1 1 1 1 1 1 1 1 1 1 1 1 1 1 1 1 1 1 1 1 1 1\n",
            " 1 1 1 1 1 1 1 1 1 1 1 1 1 1 1 1 1 1 1 1 1 1 1 1 1 1 1 1 1 1 1 1 1 1 1 1 1\n",
            " 1 1]\n",
            "The actual data is:\n",
            "[1 1 1 1 1 1 1 1 1 1 1 1 1 1 1 1 1 1 1 0 1 1 1 1 1 0 1 1 1 1 1 1 1 1 1 1 1\n",
            " 1 1 1 1 1 1 1 1 1 1 0 0 1 1 1 1 1 1 1 1 1 1 1 1 1 1 1 1 1 1 1 1 1 1 1 1 1\n",
            " 1 1 1 1 1 1 1 1 0 1 1 1 1 1 1 0 1 1 1 1 1 1 1 1 1 1 1 1 1 1 1 1 1 0 1 1 1\n",
            " 0 1 1 1 1 1 1 1 0 1 1 1 1 1 1 1 1 1 1 1 1 1 0 1 1 1 1 1 1 1 1 1 1 1 1 1 1\n",
            " 1 1]\n",
            "The model is 93.33333333333333 accurate.\n"
          ]
        }
      ]
    },
    {
      "cell_type": "code",
      "source": [
        "precision_recall_fscore_support(vgg_y_test, vgg_y_pred, average='binary')"
      ],
      "metadata": {
        "colab": {
          "base_uri": "https://localhost:8080/"
        },
        "id": "9wMm7CxQymil",
        "outputId": "05da8698-1af7-4a6b-c509-774c976b7e7f"
      },
      "execution_count": null,
      "outputs": [
        {
          "output_type": "execute_result",
          "data": {
            "text/plain": [
              "(0.9333333333333333, 1.0, 0.9655172413793104, None)"
            ]
          },
          "metadata": {},
          "execution_count": 116
        }
      ]
    },
    {
      "cell_type": "code",
      "source": [
        "conf_matrix = confusion_matrix(y_true=vgg_y_test, y_pred=vgg_y_pred)\n",
        "fig, ax = plt.subplots(figsize=(5, 5))\n",
        "ax.matshow(conf_matrix, cmap=plt.cm.Oranges, alpha=0.3)\n",
        "for i in range(conf_matrix.shape[0]):\n",
        "    for j in range(conf_matrix.shape[1]):\n",
        "        ax.text(x=j, y=i,s=conf_matrix[i, j], va='center', ha='center', size='xx-large')\n",
        " \n",
        "plt.xlabel('Predictions', fontsize=18)\n",
        "plt.ylabel('Actuals', fontsize=18)\n",
        "plt.title('VGG + SVC Confusion Matrix', fontsize=18)\n",
        "plt.show()"
      ],
      "metadata": {
        "colab": {
          "base_uri": "https://localhost:8080/",
          "height": 358
        },
        "id": "FmAtCJgoygPo",
        "outputId": "aaa28d6d-2eac-4492-f4b8-8aee815764de"
      },
      "execution_count": null,
      "outputs": [
        {
          "output_type": "display_data",
          "data": {
            "text/plain": [
              "<Figure size 360x360 with 1 Axes>"
            ],
            "image/png": "[encoded data removed]"
          },
          "metadata": {
            "needs_background": "light"
          }
        }
      ]
    },
    {
      "cell_type": "code",
      "source": [
        "# vgg_x_train, vgg_x_test, vgg_y_train, vgg_y_test\n",
        "# Getting the results.\n",
        "\n",
        "vgg_svm_clf = Pipeline([\n",
        "    (\"scaler\", StandardScaler()),\n",
        "    (\"linear_svc\", LinearSVC(C=1, loss=\"hinge\")),\n",
        "    ])\n",
        "\n",
        "vgg_svm_clf.fit(vgg_x_train, vgg_y_train)\n",
        "\n",
        "v_svc_y_pred = vgg_svm_clf.predict(vgg_x_test)\n",
        "print(\"The predicted Data is :\")\n",
        "print(v_svc_y_pred)\n",
        "print(\"The actual data is:\")\n",
        "print(np.array(vgg_y_test))\n",
        "print(f'The model is {accuracy_score(v_svc_y_pred, vgg_y_test) * 100} accurate.')"
      ],
      "metadata": {
        "colab": {
          "base_uri": "https://localhost:8080/"
        },
        "id": "JvfJezIDynjN",
        "outputId": "3f3fefb0-69da-48f3-d5ed-095e85d9a613"
      },
      "execution_count": null,
      "outputs": [
        {
          "output_type": "stream",
          "name": "stdout",
          "text": [
            "The predicted Data is :\n",
            "[1 1 1 1 1 0 0 1 0 1 1 1 1 1 1 1 1 1 1 0 1 1 0 1 1 0 1 1 1 1 1 1 1 1 1 1 1\n",
            " 1 1 1 1 1 0 1 1 1 1 0 0 1 0 1 1 1 1 1 1 1 1 1 1 1 1 1 1 1 0 1 1 0 1 1 1 1\n",
            " 1 1 1 1 1 1 0 1 0 1 1 1 1 0 1 0 1 1 1 1 1 1 1 1 1 1 1 1 1 1 1 0 1 0 0 1 1\n",
            " 0 1 1 1 1 1 1 1 0 1 1 1 1 1 1 1 1 0 1 1 1 0 0 1 1 1 1 1 0 1 1 1 1 1 1 0 1\n",
            " 1 1]\n",
            "The actual data is:\n",
            "[1 1 1 1 1 1 1 1 1 1 1 1 1 1 1 1 1 1 1 0 1 1 1 1 1 0 1 1 1 1 1 1 1 1 1 1 1\n",
            " 1 1 1 1 1 1 1 1 1 1 0 0 1 1 1 1 1 1 1 1 1 1 1 1 1 1 1 1 1 1 1 1 1 1 1 1 1\n",
            " 1 1 1 1 1 1 1 1 0 1 1 1 1 1 1 0 1 1 1 1 1 1 1 1 1 1 1 1 1 1 1 1 1 0 1 1 1\n",
            " 0 1 1 1 1 1 1 1 0 1 1 1 1 1 1 1 1 1 1 1 1 1 0 1 1 1 1 1 1 1 1 1 1 1 1 1 1\n",
            " 1 1]\n",
            "The model is 89.33333333333333 accurate.\n"
          ]
        }
      ]
    },
    {
      "cell_type": "code",
      "source": [
        "precision_recall_fscore_support(vgg_y_test, v_svc_y_pred, average='binary')"
      ],
      "metadata": {
        "colab": {
          "base_uri": "https://localhost:8080/"
        },
        "id": "WHbwwH-r2NqD",
        "outputId": "59d69428-0f1d-4488-ad8a-7de18a1bdf83"
      },
      "execution_count": null,
      "outputs": [
        {
          "output_type": "execute_result",
          "data": {
            "text/plain": [
              "(1.0, 0.8857142857142857, 0.9393939393939393, None)"
            ]
          },
          "metadata": {},
          "execution_count": 119
        }
      ]
    },
    {
      "cell_type": "code",
      "source": [
        "conf_matrix = confusion_matrix(y_true=vgg_y_test, y_pred=v_svc_y_pred)\n",
        "fig, ax = plt.subplots(figsize=(5, 5))\n",
        "ax.matshow(conf_matrix, cmap=plt.cm.Oranges, alpha=0.3)\n",
        "for i in range(conf_matrix.shape[0]):\n",
        "    for j in range(conf_matrix.shape[1]):\n",
        "        ax.text(x=j, y=i,s=conf_matrix[i, j], va='center', ha='center', size='xx-large')\n",
        " \n",
        "plt.xlabel('Predictions', fontsize=18)\n",
        "plt.ylabel('Actuals', fontsize=18)\n",
        "plt.title('VGG + SVC Confusion Matrix', fontsize=18)\n",
        "plt.show()"
      ],
      "metadata": {
        "colab": {
          "base_uri": "https://localhost:8080/",
          "height": 358
        },
        "id": "e5TVdfc52O_X",
        "outputId": "7065e4e2-78c9-44f4-9f17-558110d9e721"
      },
      "execution_count": null,
      "outputs": [
        {
          "output_type": "display_data",
          "data": {
            "text/plain": [
              "<Figure size 360x360 with 1 Axes>"
            ],
            "image/png": "[encoded data removed]"
          },
          "metadata": {
            "needs_background": "light"
          }
        }
      ]
    },
    {
      "cell_type": "code",
      "source": [],
      "metadata": {
        "id": "xH_tpGVd7_Kk"
      },
      "execution_count": null,
      "outputs": []
    }
  ]
}