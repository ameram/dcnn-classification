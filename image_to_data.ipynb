{
  "cells": [
    {
      "cell_type": "markdown",
      "metadata": {
        "id": "view-in-github",
        "colab_type": "text"
      },
      "source": [
        "<a href=\"https://colab.research.google.com/github/ameram/dcnn-classification/blob/master/image_to_data.ipynb\" target=\"_parent\"><img src=\"https://colab.research.google.com/assets/colab-badge.svg\" alt=\"Open In Colab\"/></a>"
      ]
    },
    {
      "cell_type": "code",
      "execution_count": null,
      "id": "1c0aa8ee",
      "metadata": {
        "id": "1c0aa8ee"
      },
      "outputs": [],
      "source": [
        "import numpy as np\n",
        "import os\n",
        "import matplotlib.pyplot as plt\n",
        "import skimage.data as data\n",
        "import skimage.segmentation as seg\n",
        "import skimage.filters as filters\n",
        "import skimage.draw as draw\n",
        "import skimage.color as color\n",
        "from skimage import img_as_float\n",
        "from skimage import io"
      ]
    },
    {
      "cell_type": "code",
      "execution_count": null,
      "id": "c2592fd7",
      "metadata": {
        "id": "c2592fd7"
      },
      "outputs": [],
      "source": [
        "def image_show(image, nrows=1, ncols=1, cmap='gray'):\n",
        "    fig, ax = plt.subplots(nrows=nrows, ncols=ncols, figsize=(14, 14))\n",
        "    ax.imshow(image, cmap='gray')\n",
        "    ax.axis('off')\n",
        "    return fig, ax"
      ]
    },
    {
      "cell_type": "code",
      "source": [
        "def coordinates(n):\n",
        "    left = 0\n",
        "    for i in range(0, 1920):\n",
        "        if np.max(n[:, i]):\n",
        "            left = i\n",
        "            break\n",
        "    \n",
        "    right = 0\n",
        "    for i in range(1919, 0, -1):\n",
        "        if np.max(n[:, i]):\n",
        "            right = i\n",
        "            break\n",
        "\n",
        "    up = 0\n",
        "    for i in range(0, 1080):\n",
        "        if np.max(n[i]):\n",
        "            up = i\n",
        "            break\n",
        "\n",
        "    down = 0\n",
        "    for i in range(1079, 0, -1):\n",
        "        if np.max(n[i]):\n",
        "            down = i\n",
        "            break\n",
        "            \n",
        "    return up, down, left, right"
      ],
      "metadata": {
        "id": "08y0OR0dH87p"
      },
      "id": "08y0OR0dH87p",
      "execution_count": null,
      "outputs": []
    },
    {
      "cell_type": "code",
      "source": [
        "# Connecting to google drive for getting the data\n",
        "from google.colab import drive\n",
        "drive.mount('/content/drive')\n",
        "os.chdir('drive/MyDrive/raisen_raw')"
      ],
      "metadata": {
        "colab": {
          "base_uri": "https://localhost:8080/"
        },
        "id": "W9yKJbkvC05l",
        "outputId": "c730d41a-b50d-428e-8a8c-f274a63e9ab7"
      },
      "id": "W9yKJbkvC05l",
      "execution_count": null,
      "outputs": [
        {
          "output_type": "stream",
          "name": "stdout",
          "text": [
            "Mounted at /content/drive\n"
          ]
        }
      ]
    },
    {
      "cell_type": "code",
      "source": [
        "folders = os.listdir()\n",
        "print(folders)"
      ],
      "metadata": {
        "colab": {
          "base_uri": "https://localhost:8080/"
        },
        "id": "fMDOG99NDRYj",
        "outputId": "0f9addb4-4116-4ffa-9552-dbb90e6d6661"
      },
      "id": "fMDOG99NDRYj",
      "execution_count": null,
      "outputs": [
        {
          "output_type": "stream",
          "name": "stdout",
          "text": [
            "['class-r-11', 'class-r-8', 'class-r-13', 'class-r-6', 'class-r-10', 'class-r-14', 'class-r-9', 'class-r-12', 'class-r-15', 'class-r-7', 'class-r-4', 'class-r-2', 'class-r-5', 'class-r-3']\n"
          ]
        }
      ]
    },
    {
      "cell_type": "code",
      "execution_count": null,
      "id": "853012a9",
      "metadata": {
        "id": "853012a9"
      },
      "outputs": [],
      "source": [
        "current_class = 'class-r-3'\n",
        "files_in_folder = os.listdir(current_class)\n",
        "\n",
        "file_names = []\n",
        "for i in files_in_folder:\n",
        "    if i.endswith('.jpg'):\n",
        "        file_names.append(i)\n",
        "\n",
        "# print(file_names)"
      ]
    },
    {
      "cell_type": "code",
      "execution_count": null,
      "id": "3c8496b2",
      "metadata": {
        "scrolled": true,
        "id": "3c8496b2",
        "outputId": "f1cd9b6a-1ef7-4639-b19f-07a18a588ab4",
        "colab": {
          "base_uri": "https://localhost:8080/"
        }
      },
      "outputs": [
        {
          "output_type": "stream",
          "name": "stderr",
          "text": [
            "<ipython-input-70-7e47d9ad2762>:10: FutureWarning: skimage.measure.label's indexing starts from 0. In future version it will start from 1. To disable this warning, explicitely set the `start_label` parameter to 1.\n",
            "  image_slic = seg.slic(image, n_segments = 4)\n"
          ]
        },
        {
          "output_type": "stream",
          "name": "stdout",
          "text": [
            "Saved %2.0\n",
            "Saved %4.0\n",
            "Saved %6.0\n",
            "Saved %8.0\n",
            "Saved %10.0\n",
            "Saved %12.0\n",
            "Saved %14.0\n",
            "Saved %16.0\n",
            "Saved %18.0\n",
            "Saved %20.0\n",
            "Saved %22.0\n",
            "Saved %24.0\n",
            "Saved %26.0\n",
            "Saved %28.0\n",
            "Saved %30.0\n",
            "Saved %32.0\n",
            "Saved %34.0\n",
            "Saved %36.0\n",
            "Saved %38.0\n",
            "Saved %40.0\n",
            "Saved %42.0\n",
            "Saved %44.0\n",
            "Saved %46.0\n",
            "Saved %48.0\n",
            "Saved %50.0\n",
            "Saved %52.0\n",
            "Saved %54.0\n",
            "Saved %56.0\n",
            "Saved %58.0\n",
            "Saved %60.0\n",
            "Saved %62.0\n",
            "Saved %64.0\n",
            "Saved %66.0\n",
            "Saved %68.0\n",
            "Saved %70.0\n",
            "Saved %72.0\n",
            "Saved %74.0\n",
            "Saved %76.0\n",
            "Saved %78.0\n",
            "Saved %80.0\n",
            "Saved %82.0\n",
            "Saved %84.0\n",
            "Saved %86.0\n",
            "Saved %88.0\n",
            "Saved %90.0\n",
            "Saved %92.0\n",
            "Saved %94.0\n",
            "Saved %96.0\n",
            "Saved %98.0\n",
            "Saved %100.0\n"
          ]
        }
      ],
      "source": [
        "# os.getcwd()\n",
        "class_out_name = f'out-{current_class}'\n",
        "os.mkdir(class_out_name)\n",
        "count = 0\n",
        "\n",
        "for i in file_names:\n",
        "  image_path = os.path.join(os.getcwd(), current_class, i)\n",
        "  image = io.imread(image_path) \n",
        "  # plt.imshow(image)\n",
        "  image_slic = seg.slic(image, n_segments = 4)\n",
        "  # image_slic = image_slic - 1\n",
        "  # image_show(image_slic)\n",
        "  b = np.repeat(image_slic[:, :, np.newaxis], 3, axis=2)\n",
        "  n = image * b\n",
        "\n",
        "  u, d, l, r = coordinates(n)\n",
        "  vv = n[u:d, l:r].astype('uint8')\n",
        "  # image_show(vv)\n",
        "  io.imsave(f'{class_out_name}/edited-{i}', vv)\n",
        "  count += 1\n",
        "  print(f'Saved %{count//0.5}')"
      ]
    },
    {
      "cell_type": "code",
      "source": [],
      "metadata": {
        "id": "TnphjAEgMGHZ"
      },
      "id": "TnphjAEgMGHZ",
      "execution_count": null,
      "outputs": []
    }
  ],
  "metadata": {
    "kernelspec": {
      "display_name": "Python 3 (ipykernel)",
      "language": "python",
      "name": "python3"
    },
    "language_info": {
      "codemirror_mode": {
        "name": "ipython",
        "version": 3
      },
      "file_extension": ".py",
      "mimetype": "text/x-python",
      "name": "python",
      "nbconvert_exporter": "python",
      "pygments_lexer": "ipython3",
      "version": "3.10.6"
    },
    "colab": {
      "provenance": [],
      "include_colab_link": true
    }
  },
  "nbformat": 4,
  "nbformat_minor": 5
}