{
  "nbformat": 4,
  "nbformat_minor": 0,
  "metadata": {
    "colab": {
      "provenance": [],
      "include_colab_link": true
    },
    "kernelspec": {
      "name": "python3",
      "display_name": "Python 3"
    },
    "language_info": {
      "name": "python"
    }
  },
  "cells": [
    {
      "cell_type": "markdown",
      "metadata": {
        "id": "view-in-github",
        "colab_type": "text"
      },
      "source": [
        "<a href=\"https://colab.research.google.com/github/ameram/dcnn-classification/blob/master/raisin_cnn.ipynb\" target=\"_parent\"><img src=\"https://colab.research.google.com/assets/colab-badge.svg\" alt=\"Open In Colab\"/></a>"
      ]
    },
    {
      "cell_type": "code",
      "source": [
        "from google.colab import drive\n",
        "drive.mount('/content/drive')"
      ],
      "metadata": {
        "colab": {
          "base_uri": "https://localhost:8080/"
        },
        "id": "JR8Aqiz42Ew1",
        "outputId": "4ab5ca91-4ad8-4a35-d1b1-a5b11c0e7f17"
      },
      "execution_count": 1,
      "outputs": [
        {
          "output_type": "stream",
          "name": "stdout",
          "text": [
            "Mounted at /content/drive\n"
          ]
        }
      ]
    },
    {
      "cell_type": "code",
      "source": [
        "import os\n",
        "import matplotlib.pyplot as plt\n",
        "import keras\n",
        "from keras import layers, Sequential\n",
        "\n",
        "os.listdir('drive/MyDrive/data')\n",
        "os.chdir('drive/MyDrive/data')\n",
        "\n",
        "\n",
        "test = image_dataset_from_directory('.', class_names=['fruits', 'humans'], seed = 42, subset = 'training', validation_split=0.2, image_size=(100, 100))\n",
        "val = image_dataset_from_directory('.', class_names=['fruits', 'humans'], seed = 42, subset = 'validation', validation_split=0.2, image_size=(100, 100))\n",
        "\n",
        "\n",
        "# train_dataset = image_dataset_from_directory(\n",
        "#     \"size-100/train\",\n",
        "#     image_size=(100, 100),\n",
        "#     batch_size=32)\n",
        "# val_dataset = image_dataset_from_directory(\n",
        "#     \"size-100/val\",\n",
        "#     image_size=(100, 100),\n",
        "#     batch_size=32)"
      ],
      "metadata": {
        "colab": {
          "base_uri": "https://localhost:8080/",
          "height": 232
        },
        "id": "n2eAdMaGKIlM",
        "outputId": "9f059a0c-3757-4b8b-9dec-e83b6286f5f1"
      },
      "execution_count": 114,
      "outputs": [
        {
          "output_type": "error",
          "ename": "FileNotFoundError",
          "evalue": "ignored",
          "traceback": [
            "\u001b[0;31m---------------------------------------------------------------------------\u001b[0m",
            "\u001b[0;31mFileNotFoundError\u001b[0m                         Traceback (most recent call last)",
            "\u001b[0;32m<ipython-input-114-5a7e5d07d3a1>\u001b[0m in \u001b[0;36m<module>\u001b[0;34m\u001b[0m\n\u001b[1;32m      1\u001b[0m \u001b[0;32mimport\u001b[0m \u001b[0mos\u001b[0m\u001b[0;34m\u001b[0m\u001b[0;34m\u001b[0m\u001b[0m\n\u001b[0;32m----> 2\u001b[0;31m \u001b[0mos\u001b[0m\u001b[0;34m.\u001b[0m\u001b[0mlistdir\u001b[0m\u001b[0;34m(\u001b[0m\u001b[0;34m'drive/MyDrive/data'\u001b[0m\u001b[0;34m)\u001b[0m\u001b[0;34m\u001b[0m\u001b[0;34m\u001b[0m\u001b[0m\n\u001b[0m\u001b[1;32m      3\u001b[0m \u001b[0mos\u001b[0m\u001b[0;34m.\u001b[0m\u001b[0mchdir\u001b[0m\u001b[0;34m(\u001b[0m\u001b[0;34m'drive/MyDrive/data'\u001b[0m\u001b[0;34m)\u001b[0m\u001b[0;34m\u001b[0m\u001b[0;34m\u001b[0m\u001b[0m\n\u001b[1;32m      4\u001b[0m \u001b[0;34m\u001b[0m\u001b[0m\n\u001b[1;32m      5\u001b[0m \u001b[0;34m\u001b[0m\u001b[0m\n",
            "\u001b[0;31mFileNotFoundError\u001b[0m: [Errno 2] No such file or directory: 'drive/MyDrive/data'"
          ]
        }
      ]
    },
    {
      "cell_type": "code",
      "source": [
        "from skimage.io import imread\n",
        "from sklearn.model_selection import train_test_split\n",
        "from sklearn.metrics import accuracy_score\n",
        "import numpy as np\n",
        "import pandas as pd\n",
        "Categories=['humans','fruits']\n",
        "\n",
        "flat_data_arr=[] #input array\n",
        "target_arr=[] #output array\n",
        "\n",
        "datadir='' \n",
        "#path which contains all the categories of images\n",
        "\n",
        "for i in Categories:\n",
        "    \n",
        "    print(f'Loading... category : {i}')\n",
        "    path=os.path.join(datadir,i)\n",
        "\n",
        "    for img in os.listdir(path):\n",
        "        img_array=imread(os.path.join(path,img))\n",
        "        # img_resized=resize(img_array,(150,150,3))\n",
        "        flat_data_arr.append(np.asarray(img_array))\n",
        "        target_arr.append(Categories.index(i))\n",
        "    print(f'loaded category:{i} successfully')\n",
        "print(f\"{len(flat_data_arr)} added successfully\")\n",
        "\n",
        "\n",
        "# type(flat_data_arr)\n",
        "big_x = np.array(flat_data_arr)\n",
        "big_y = np.array(target_arr)\n",
        "x_train, x_test, y_train, y_test = train_test_split(big_x, big_y, test_size=0.2,random_state=42,stratify=big_y)\n",
        "\n",
        "# x_train = x_train.astype('float')\n",
        "# x_test = x_test.astype('float')\n",
        "x_train = x_train / 255.0\n",
        "x_test = x_test / 255.0"
      ],
      "metadata": {
        "colab": {
          "base_uri": "https://localhost:8080/"
        },
        "id": "VHQyXaYCf4WU",
        "outputId": "59dee3e9-6b2a-4065-b0cf-14886248c372"
      },
      "execution_count": 213,
      "outputs": [
        {
          "output_type": "stream",
          "name": "stdout",
          "text": [
            "Loading... category : humans\n",
            "loaded category:humans successfully\n",
            "Loading... category : fruits\n",
            "loaded category:fruits successfully\n",
            "100 added successfully\n"
          ]
        }
      ]
    },
    {
      "cell_type": "code",
      "source": [
        "x_test.shape"
      ],
      "metadata": {
        "colab": {
          "base_uri": "https://localhost:8080/"
        },
        "id": "YFBqId5No6Rp",
        "outputId": "bfb56287-82b8-4a08-88f5-a7a02ffd1fe7"
      },
      "execution_count": 215,
      "outputs": [
        {
          "output_type": "execute_result",
          "data": {
            "text/plain": [
              "(20, 100, 100, 3)"
            ]
          },
          "metadata": {},
          "execution_count": 215
        }
      ]
    },
    {
      "cell_type": "code",
      "source": [
        "# inputs = keras.Input(shape=(100, 100, 3))\n",
        "# x = layers.Rescaling(1)(inputs)\n",
        "# x = layers.Conv2D(filters=16, kernel_size=3, activation=\"relu\")(x)\n",
        "# x = layers.MaxPooling2D(pool_size=2)(x)\n",
        "# x = layers.Conv2D(filters=32, kernel_size=3, activation=\"relu\")(x)\n",
        "# x = layers.MaxPooling2D(pool_size=2)(x)\n",
        "# x = layers.Conv2D(filters=64, kernel_size=3, activation=\"relu\")(x)\n",
        "# x = layers.MaxPooling2D(pool_size=2)(x)\n",
        "# x = layers.Conv2D(filters=128, kernel_size=3, activation=\"relu\")(x)\n",
        "# x = layers.MaxPooling2D(pool_size=2)(x)\n",
        "# x = layers.Conv2D(filters=128, kernel_size=3, activation=\"relu\")(x)\n",
        "# x = layers.Flatten()(x)\n",
        "# outputs = layers.Dense(1, activation=\"tanh\")(x)\n",
        "# model = keras.Model(inputs=inputs, outputs=x)\n",
        "\n",
        "\n",
        "model = Sequential([\n",
        "    layers.Conv2D(filters=8,kernel_size=(3,3),  input_shape = (100, 100, 3),activation='relu'),\n",
        "    layers.MaxPooling2D(pool_size=(2,2)),\n",
        "\n",
        "    layers.Conv2D(filters=16,kernel_size=(3,3), activation='relu'),\n",
        "    layers.MaxPooling2D(pool_size=(2,2)),\n",
        "    # layers.Dropout(0.25),\n",
        "\n",
        "    layers.Conv2D(filters=32,kernel_size=(3,3), activation='relu'),\n",
        "    layers.MaxPooling2D(pool_size=(2,2)),\n",
        "    layers.Dropout(0.25),\n",
        "\n",
        "    layers.Flatten(),\n",
        "    layers.Dense(128, activation='relu'),\n",
        "    # layers.Dropout(0.25),\n",
        "    layers.Dense(1, activation='softmax')\n",
        "])"
      ],
      "metadata": {
        "id": "741ehfbT4ZA9"
      },
      "execution_count": 222,
      "outputs": []
    },
    {
      "cell_type": "code",
      "source": [
        "nn_model = keras.models.Sequential()\n",
        "nn_model.add(keras.layers.Flatten(input_shape=[100, 100, 3]))\n",
        "nn_model.add(keras.layers.Dense(2200, activation=\"relu\"))\n",
        "nn_model.add(keras.layers.Dense(1000, activation=\"relu\"))\n",
        "nn_model.add(keras.layers.Dense(90, activation=\"relu\"))\n",
        "nn_model.add(keras.layers.Dense(1, activation=\"sigmoid\"))"
      ],
      "metadata": {
        "id": "em9KiF1vsAcU"
      },
      "execution_count": 243,
      "outputs": []
    },
    {
      "cell_type": "code",
      "source": [
        "model.summary()"
      ],
      "metadata": {
        "colab": {
          "base_uri": "https://localhost:8080/"
        },
        "id": "ZWL_Wmid47yx",
        "outputId": "e48296fb-a92b-4048-a66a-35a00377cc06"
      },
      "execution_count": 223,
      "outputs": [
        {
          "output_type": "stream",
          "name": "stdout",
          "text": [
            "Model: \"sequential_11\"\n",
            "_________________________________________________________________\n",
            " Layer (type)                Output Shape              Param #   \n",
            "=================================================================\n",
            " conv2d_71 (Conv2D)          (None, 98, 98, 8)         224       \n",
            "                                                                 \n",
            " max_pooling2d_68 (MaxPoolin  (None, 49, 49, 8)        0         \n",
            " g2D)                                                            \n",
            "                                                                 \n",
            " conv2d_72 (Conv2D)          (None, 47, 47, 16)        1168      \n",
            "                                                                 \n",
            " max_pooling2d_69 (MaxPoolin  (None, 23, 23, 16)       0         \n",
            " g2D)                                                            \n",
            "                                                                 \n",
            " conv2d_73 (Conv2D)          (None, 21, 21, 32)        4640      \n",
            "                                                                 \n",
            " max_pooling2d_70 (MaxPoolin  (None, 10, 10, 32)       0         \n",
            " g2D)                                                            \n",
            "                                                                 \n",
            " dropout_27 (Dropout)        (None, 10, 10, 32)        0         \n",
            "                                                                 \n",
            " flatten_21 (Flatten)        (None, 3200)              0         \n",
            "                                                                 \n",
            " dense_38 (Dense)            (None, 128)               409728    \n",
            "                                                                 \n",
            " dense_39 (Dense)            (None, 1)                 129       \n",
            "                                                                 \n",
            "=================================================================\n",
            "Total params: 415,889\n",
            "Trainable params: 415,889\n",
            "Non-trainable params: 0\n",
            "_________________________________________________________________\n"
          ]
        }
      ]
    },
    {
      "cell_type": "code",
      "source": [
        "nn_model.summary()"
      ],
      "metadata": {
        "colab": {
          "base_uri": "https://localhost:8080/"
        },
        "id": "duy1JEZvr5yA",
        "outputId": "6cc69519-d467-4c69-a98e-2a93740443ab"
      },
      "execution_count": 244,
      "outputs": [
        {
          "output_type": "stream",
          "name": "stdout",
          "text": [
            "Model: \"sequential_17\"\n",
            "_________________________________________________________________\n",
            " Layer (type)                Output Shape              Param #   \n",
            "=================================================================\n",
            " flatten_27 (Flatten)        (None, 30000)             0         \n",
            "                                                                 \n",
            " dense_56 (Dense)            (None, 2200)              66002200  \n",
            "                                                                 \n",
            " dense_57 (Dense)            (None, 1000)              2201000   \n",
            "                                                                 \n",
            " dense_58 (Dense)            (None, 90)                90090     \n",
            "                                                                 \n",
            " dense_59 (Dense)            (None, 1)                 91        \n",
            "                                                                 \n",
            "=================================================================\n",
            "Total params: 68,293,381\n",
            "Trainable params: 68,293,381\n",
            "Non-trainable params: 0\n",
            "_________________________________________________________________\n"
          ]
        }
      ]
    },
    {
      "cell_type": "code",
      "source": [
        "import tensorflow as tf\n",
        "from keras.optimizers import SGD\n",
        "\n",
        "# model.compile(loss=\"binary_crossentropy\",\n",
        "#               optimizer=\"rmsprop\",\n",
        "#               metrics=[\"accuracy\"])\n",
        "\n",
        "# LOSSES: categorical_crossentropy\n",
        "# OPTIMIZERS: tf.keras.optimizers.RMSprop(learning_rate=0.001)\n",
        "model.compile(loss='binary_crossentropy',\n",
        "              optimizer=tf.keras.optimizers.SGD(learning_rate=0.01),\n",
        "              metrics=['accuracy'])"
      ],
      "metadata": {
        "id": "4gx-gRxK5fBC"
      },
      "execution_count": 234,
      "outputs": []
    },
    {
      "cell_type": "code",
      "source": [
        "nn_model.compile(loss=\"binary_crossentropy\",\n",
        "                 optimizer=\"sgd\", metrics=[\"accuracy\"])"
      ],
      "metadata": {
        "id": "IjP6t1FBs0gq"
      },
      "execution_count": 245,
      "outputs": []
    },
    {
      "cell_type": "code",
      "source": [
        "# This is with numpy \n",
        "history2 = model.fit(x_train, y_train, epochs=4, validation_data=(x_test, y_test))"
      ],
      "metadata": {
        "colab": {
          "base_uri": "https://localhost:8080/"
        },
        "id": "wkoT5cM6n9cs",
        "outputId": "146bfbfa-03ef-49ec-855d-33e46cecb388"
      },
      "execution_count": 219,
      "outputs": [
        {
          "output_type": "stream",
          "name": "stdout",
          "text": [
            "Epoch 1/4\n",
            "3/3 [==============================] - 1s 165ms/step - loss: 0.6951 - accuracy: 0.5000 - val_loss: 0.6954 - val_accuracy: 0.5000\n",
            "Epoch 2/4\n",
            "3/3 [==============================] - 0s 102ms/step - loss: 0.6991 - accuracy: 0.5000 - val_loss: 0.6870 - val_accuracy: 0.5000\n",
            "Epoch 3/4\n",
            "3/3 [==============================] - 0s 98ms/step - loss: 0.6819 - accuracy: 0.5000 - val_loss: 0.6812 - val_accuracy: 0.5000\n",
            "Epoch 4/4\n",
            "3/3 [==============================] - 0s 106ms/step - loss: 0.6839 - accuracy: 0.5000 - val_loss: 0.6739 - val_accuracy: 0.5000\n"
          ]
        }
      ]
    },
    {
      "cell_type": "code",
      "source": [
        "# This one is with default TF Datasets\n",
        "\n",
        "history = model.fit(\n",
        "    test,\n",
        "    epochs=5,\n",
        "    validation_data=val)"
      ],
      "metadata": {
        "colab": {
          "base_uri": "https://localhost:8080/"
        },
        "id": "-kHETBBh9iru",
        "outputId": "908fa5d8-2671-439c-c65a-279bf415e825"
      },
      "execution_count": 238,
      "outputs": [
        {
          "output_type": "stream",
          "name": "stdout",
          "text": [
            "Epoch 1/5\n",
            "3/3 [==============================] - 1s 143ms/step - loss: 2225.7009 - accuracy: 0.4750 - val_loss: 0.9671 - val_accuracy: 0.6000\n",
            "Epoch 2/5\n",
            "3/3 [==============================] - 0s 100ms/step - loss: 0.9298 - accuracy: 0.4750 - val_loss: 0.7113 - val_accuracy: 0.6000\n",
            "Epoch 3/5\n",
            "3/3 [==============================] - 0s 107ms/step - loss: 0.6918 - accuracy: 0.4750 - val_loss: 0.7046 - val_accuracy: 0.6000\n",
            "Epoch 4/5\n",
            "3/3 [==============================] - 0s 109ms/step - loss: 0.6851 - accuracy: 0.4750 - val_loss: 0.7026 - val_accuracy: 0.6000\n",
            "Epoch 5/5\n",
            "3/3 [==============================] - 0s 104ms/step - loss: 0.7032 - accuracy: 0.4750 - val_loss: 0.7069 - val_accuracy: 0.6000\n"
          ]
        }
      ]
    },
    {
      "cell_type": "code",
      "source": [
        "nn_history = nn_model.fit(test, epochs=5, validation_data=val)"
      ],
      "metadata": {
        "colab": {
          "base_uri": "https://localhost:8080/"
        },
        "id": "-bh1A9VVl9RB",
        "outputId": "cb3e9839-b61f-4b0d-a61c-0dfb850e83f8"
      },
      "execution_count": 236,
      "outputs": [
        {
          "output_type": "stream",
          "name": "stdout",
          "text": [
            "Epoch 1/5\n",
            "3/3 [==============================] - 1s 115ms/step - loss: 6269047808.0000 - accuracy: 0.4250 - val_loss: 59055355723776.0000 - val_accuracy: 0.4000\n",
            "Epoch 2/5\n",
            "3/3 [==============================] - 0s 79ms/step - loss: 17247579930624.0000 - accuracy: 0.5375 - val_loss: 6587628637218480952310759424.0000 - val_accuracy: 0.6000\n",
            "Epoch 3/5\n",
            "3/3 [==============================] - 0s 85ms/step - loss: 111953878898562006745744408576.0000 - accuracy: 0.5250 - val_loss: 493517057246215589068800.0000 - val_accuracy: 0.4000\n",
            "Epoch 4/5\n",
            "3/3 [==============================] - 0s 78ms/step - loss: 1284784641109889235673358207163564032.0000 - accuracy: 0.5250 - val_loss: nan - val_accuracy: 0.6000\n",
            "Epoch 5/5\n",
            "3/3 [==============================] - 0s 83ms/step - loss: nan - accuracy: 0.5250 - val_loss: nan - val_accuracy: 0.4000\n"
          ]
        }
      ]
    },
    {
      "cell_type": "code",
      "source": [
        "nn_np_history = nn_model.fit(x_train, y_train, epochs=4, validation_data=(x_test, y_test))"
      ],
      "metadata": {
        "colab": {
          "base_uri": "https://localhost:8080/"
        },
        "id": "_Mz-Oyn5tOCh",
        "outputId": "8b2b62bd-2052-4edc-a195-95591ca13649"
      },
      "execution_count": 246,
      "outputs": [
        {
          "output_type": "stream",
          "name": "stdout",
          "text": [
            "Epoch 1/4\n",
            "3/3 [==============================] - 1s 327ms/step - loss: 1.1400 - accuracy: 0.4750 - val_loss: 1.1491 - val_accuracy: 0.5000\n",
            "Epoch 2/4\n",
            "3/3 [==============================] - 0s 151ms/step - loss: 0.7302 - accuracy: 0.7125 - val_loss: 0.5916 - val_accuracy: 0.5000\n",
            "Epoch 3/4\n",
            "3/3 [==============================] - 0s 151ms/step - loss: 0.4850 - accuracy: 0.6375 - val_loss: 0.3299 - val_accuracy: 0.8500\n",
            "Epoch 4/4\n",
            "3/3 [==============================] - 0s 149ms/step - loss: 0.3892 - accuracy: 0.8875 - val_loss: 0.1838 - val_accuracy: 1.0000\n"
          ]
        }
      ]
    },
    {
      "cell_type": "code",
      "source": [
        "accuracy = history.history[\"accuracy\"]\n",
        "val_accuracy = history.history[\"val_accuracy\"]\n",
        "loss = history.history[\"loss\"]\n",
        "val_loss = history.history[\"val_loss\"]\n",
        "epochs = range(1, len(accuracy) + 1)\n",
        "\n",
        "plt.plot(epochs, accuracy, \"r\", label=\"Training accuracy\")\n",
        "plt.plot(epochs, val_accuracy, \"b\", label=\"Validation accuracy\")\n",
        "plt.title(\"Training and validation accuracy\")\n",
        "plt.legend()\n",
        "plt.figure()\n",
        "plt.plot(epochs, loss, \"r\", label=\"Training loss\")\n",
        "plt.plot(epochs, val_loss, \"b\", label=\"Validation loss\")\n",
        "plt.title(\"Training and validation loss\")\n",
        "plt.legend()\n",
        "plt.show()"
      ],
      "metadata": {
        "colab": {
          "base_uri": "https://localhost:8080/",
          "height": 545
        },
        "id": "eoIrZeUx-mLW",
        "outputId": "79773ae3-cc47-4a45-9b74-2cf2d5aa750a"
      },
      "execution_count": 239,
      "outputs": [
        {
          "output_type": "display_data",
          "data": {
            "text/plain": [
              "<Figure size 432x288 with 1 Axes>"
            ],
            "image/png": "[encoded data removed]"
          },
          "metadata": {
            "needs_background": "light"
          }
        },
        {
          "output_type": "display_data",
          "data": {
            "text/plain": [
              "<Figure size 432x288 with 1 Axes>"
            ],
            "image/png": "[encoded data removed]"
          },
          "metadata": {
            "needs_background": "light"
          }
        }
      ]
    },
    {
      "cell_type": "code",
      "source": [
        "accuracy = nn_history.history[\"accuracy\"]\n",
        "val_accuracy = nn_history.history[\"val_accuracy\"]\n",
        "loss = nn_history.history[\"loss\"]\n",
        "val_loss = nn_history.history[\"val_loss\"]\n",
        "epochs = range(1, len(accuracy) + 1)\n",
        "\n",
        "plt.plot(epochs, accuracy, \"r\", label=\"Training accuracy\")\n",
        "plt.plot(epochs, val_accuracy, \"b\", label=\"Validation accuracy\")\n",
        "plt.title(\"Training and validation accuracy\")\n",
        "plt.legend()\n",
        "plt.figure()\n",
        "plt.plot(epochs, loss, \"r\", label=\"Training loss\")\n",
        "plt.plot(epochs, val_loss, \"b\", label=\"Validation loss\")\n",
        "plt.title(\"Training and validation loss\")\n",
        "plt.legend()\n",
        "plt.show()"
      ],
      "metadata": {
        "colab": {
          "base_uri": "https://localhost:8080/",
          "height": 545
        },
        "id": "6YX6LBACbszl",
        "outputId": "511d4d86-0e6e-4647-ef66-c4afec6b5abb"
      },
      "execution_count": 237,
      "outputs": [
        {
          "output_type": "display_data",
          "data": {
            "text/plain": [
              "<Figure size 432x288 with 1 Axes>"
            ],
            "image/png": "[encoded data removed]"
          },
          "metadata": {
            "needs_background": "light"
          }
        },
        {
          "output_type": "display_data",
          "data": {
            "text/plain": [
              "<Figure size 432x288 with 1 Axes>"
            ],
            "image/png": "[encoded data removed]"
          },
          "metadata": {
            "needs_background": "light"
          }
        }
      ]
    },
    {
      "cell_type": "code",
      "source": [
        "accuracy = nn_np_history.history[\"accuracy\"]\n",
        "val_accuracy = nn_np_history.history[\"val_accuracy\"]\n",
        "loss = nn_np_history.history[\"loss\"]\n",
        "val_loss = nn_np_history.history[\"val_loss\"]\n",
        "epochs = range(1, len(accuracy) + 1)\n",
        "\n",
        "plt.plot(epochs, accuracy, \"r\", label=\"Training accuracy\")\n",
        "plt.plot(epochs, val_accuracy, \"b\", label=\"Validation accuracy\")\n",
        "plt.title(\"Training and validation accuracy\")\n",
        "plt.legend()\n",
        "plt.figure()\n",
        "plt.plot(epochs, loss, \"r\", label=\"Training loss\")\n",
        "plt.plot(epochs, val_loss, \"b\", label=\"Validation loss\")\n",
        "plt.title(\"Training and validation loss\")\n",
        "plt.legend()\n",
        "plt.show()"
      ],
      "metadata": {
        "colab": {
          "base_uri": "https://localhost:8080/",
          "height": 545
        },
        "id": "BVRVwcKBs-8e",
        "outputId": "7818a025-103d-4b58-a7cb-5ff605fc72ca"
      },
      "execution_count": 247,
      "outputs": [
        {
          "output_type": "display_data",
          "data": {
            "text/plain": [
              "<Figure size 432x288 with 1 Axes>"
            ],
            "image/png": "[encoded data removed]"
          },
          "metadata": {
            "needs_background": "light"
          }
        },
        {
          "output_type": "display_data",
          "data": {
            "text/plain": [
              "<Figure size 432x288 with 1 Axes>"
            ],
            "image/png": "[encoded data removed]"
          },
          "metadata": {
            "needs_background": "light"
          }
        }
      ]
    },
    {
      "cell_type": "markdown",
      "source": [
        "# USING SVM"
      ],
      "metadata": {
        "id": "xRxJ13CRt6eU"
      }
    },
    {
      "cell_type": "code",
      "source": [
        "fx_model = Sequential([\n",
        "    layers.Conv2D(filters=8,kernel_size=(3,3),  input_shape = (100, 100, 3),activation='relu'),\n",
        "    layers.MaxPooling2D(pool_size=(2,2)),\n",
        "\n",
        "    layers.Conv2D(filters=16,kernel_size=(3,3), activation='relu'),\n",
        "    # layers.MaxPooling2D(pool_size=(2,2)),\n",
        "\n",
        "    layers.Conv2D(filters=32,kernel_size=(3,3), activation='relu'),\n",
        "    layers.MaxPooling2D(pool_size=(2,2)),\n",
        "    layers.BatchNormalization()\n",
        "])"
      ],
      "metadata": {
        "id": "QLjBAxWn09Kl"
      },
      "execution_count": 309,
      "outputs": []
    },
    {
      "cell_type": "code",
      "source": [
        "fx_model.summary()"
      ],
      "metadata": {
        "colab": {
          "base_uri": "https://localhost:8080/"
        },
        "id": "JS7uCoeM1MnF",
        "outputId": "ad77d567-6990-4550-97b8-4501683b51fc"
      },
      "execution_count": 310,
      "outputs": [
        {
          "output_type": "stream",
          "name": "stdout",
          "text": [
            "Model: \"sequential_19\"\n",
            "_________________________________________________________________\n",
            " Layer (type)                Output Shape              Param #   \n",
            "=================================================================\n",
            " conv2d_77 (Conv2D)          (None, 98, 98, 8)         224       \n",
            "                                                                 \n",
            " max_pooling2d_73 (MaxPoolin  (None, 49, 49, 8)        0         \n",
            " g2D)                                                            \n",
            "                                                                 \n",
            " conv2d_78 (Conv2D)          (None, 47, 47, 16)        1168      \n",
            "                                                                 \n",
            " conv2d_79 (Conv2D)          (None, 45, 45, 32)        4640      \n",
            "                                                                 \n",
            " max_pooling2d_74 (MaxPoolin  (None, 22, 22, 32)       0         \n",
            " g2D)                                                            \n",
            "                                                                 \n",
            " batch_normalization (BatchN  (None, 22, 22, 32)       128       \n",
            " ormalization)                                                   \n",
            "                                                                 \n",
            "=================================================================\n",
            "Total params: 6,160\n",
            "Trainable params: 6,096\n",
            "Non-trainable params: 64\n",
            "_________________________________________________________________\n"
          ]
        }
      ]
    },
    {
      "cell_type": "code",
      "source": [
        "fx_model.compile(loss='binary_crossentropy',\n",
        "              optimizer=tf.keras.optimizers.SGD(learning_rate=0.01),\n",
        "              metrics=['accuracy'])\n"
      ],
      "metadata": {
        "id": "sZ-attkF1O_E"
      },
      "execution_count": 311,
      "outputs": []
    },
    {
      "cell_type": "code",
      "source": [
        "fx_features = []\n",
        "fx_features.append(fx_model.predict(x_train))\n",
        "fx_features.append(fx_model.predict(x_test))\n",
        "fx_features = np.concatenate(fx_features)\n",
        "fx_features.shape"
      ],
      "metadata": {
        "colab": {
          "base_uri": "https://localhost:8080/"
        },
        "id": "psa5vCWz1ekv",
        "outputId": "205e672e-bf45-4e04-d699-fc7f4589fcb8"
      },
      "execution_count": 312,
      "outputs": [
        {
          "output_type": "stream",
          "name": "stdout",
          "text": [
            "3/3 [==============================] - 0s 34ms/step\n",
            "1/1 [==============================] - 0s 39ms/step\n"
          ]
        },
        {
          "output_type": "execute_result",
          "data": {
            "text/plain": [
              "(100, 22, 22, 32)"
            ]
          },
          "metadata": {},
          "execution_count": 312
        }
      ]
    },
    {
      "cell_type": "code",
      "source": [
        "fx_labels = []\n",
        "fx_labels.append(y_train)\n",
        "fx_labels.append(y_test)\n",
        "fx_labels = np.concatenate(fx_labels)\n",
        "fx_labels.shape"
      ],
      "metadata": {
        "colab": {
          "base_uri": "https://localhost:8080/"
        },
        "id": "yv0qbNF51pxK",
        "outputId": "584447fe-254e-4405-cf89-dbd37ad2eb76"
      },
      "execution_count": 313,
      "outputs": [
        {
          "output_type": "execute_result",
          "data": {
            "text/plain": [
              "(100,)"
            ]
          },
          "metadata": {},
          "execution_count": 313
        }
      ]
    },
    {
      "cell_type": "code",
      "source": [
        "svm_x_train, svm_x_test, svm_y_train, svm_y_test = train_test_split(fx_features, fx_labels, test_size=0.2,random_state=42,stratify=fx_labels)"
      ],
      "metadata": {
        "id": "dbfxnFqn3NxH"
      },
      "execution_count": 314,
      "outputs": []
    },
    {
      "cell_type": "code",
      "source": [
        "flat_svm_x_train = svm_x_train.reshape(80, -1)\n",
        "flat_svm_x_test = svm_x_test.reshape(20, -1)"
      ],
      "metadata": {
        "id": "B8EPzIFt4RvM"
      },
      "execution_count": 315,
      "outputs": []
    },
    {
      "cell_type": "code",
      "source": [
        "from sklearn.svm import LinearSVC\n",
        "\n",
        "lsvm_2 = LinearSVC(C=1, loss='hinge')\n",
        "lsvm_2.fit(flat_svm_x_train, svm_y_train)"
      ],
      "metadata": {
        "colab": {
          "base_uri": "https://localhost:8080/"
        },
        "id": "cpI4Ryd53AcB",
        "outputId": "2be48b68-7f82-4e9c-a9b1-c70d26b4860f"
      },
      "execution_count": 316,
      "outputs": [
        {
          "output_type": "execute_result",
          "data": {
            "text/plain": [
              "LinearSVC(C=1, loss='hinge')"
            ]
          },
          "metadata": {},
          "execution_count": 316
        }
      ]
    },
    {
      "cell_type": "code",
      "source": [
        "y_pred = lsvm_2.predict(flat_svm_x_test)\n",
        "print(\"The predicted Data is :\")\n",
        "print(y_pred)\n",
        "print(\"The actual data is:\")\n",
        "print(np.array(svm_y_test))\n",
        "print(f'The model is {accuracy_score(y_pred, svm_y_test) * 100} accurate.')"
      ],
      "metadata": {
        "colab": {
          "base_uri": "https://localhost:8080/"
        },
        "id": "g5X-qjfF4L_6",
        "outputId": "811d85a3-8b9a-48e7-f010-0346b4b7fa4e"
      },
      "execution_count": 318,
      "outputs": [
        {
          "output_type": "stream",
          "name": "stdout",
          "text": [
            "The predicted Data is :\n",
            "[1 1 1 1 0 0 0 1 0 0 1 1 1 0 0 1 1 0 1 1]\n",
            "The actual data is:\n",
            "[1 1 1 1 0 0 0 1 0 0 0 1 0 0 0 1 1 0 1 1]\n",
            "The model is 90.0 accurate.\n"
          ]
        }
      ]
    },
    {
      "cell_type": "code",
      "source": [
        "conv_base = keras.applications.vgg16.VGG16(weights='imagenet',\n",
        "                                           include_top=False,\n",
        "                                           input_shape=(100, 100, 3))\n",
        "conv_base.summary()"
      ],
      "metadata": {
        "colab": {
          "base_uri": "https://localhost:8080/"
        },
        "id": "BsXWLjyOt-Ig",
        "outputId": "82333d36-05a8-4c88-ee58-07c2f55fc4de"
      },
      "execution_count": 255,
      "outputs": [
        {
          "output_type": "stream",
          "name": "stdout",
          "text": [
            "Downloading data from https://storage.googleapis.com/tensorflow/keras-applications/vgg16/vgg16_weights_tf_dim_ordering_tf_kernels_notop.h5\n",
            "58889256/58889256 [==============================] - 1s 0us/step\n"
          ]
        }
      ]
    },
    {
      "cell_type": "code",
      "source": [
        "def get_features_and_labels(dataset):\n",
        "  all_features = []\n",
        "  all_labels = []\n",
        "  for images, labels in dataset:\n",
        "    preprocesses_images = keras.applications.vgg16.preprocess_input(images)\n",
        "    features = conv_base.predict(preprocesses_images)\n",
        "    all_features.append(features)\n",
        "    all_labels.append(labels)\n",
        "  return np.concatenate(all_features), np.concatenate(all_labels)"
      ],
      "metadata": {
        "id": "m41OA8UsyYGO"
      },
      "execution_count": 322,
      "outputs": []
    },
    {
      "cell_type": "code",
      "source": [
        "data_for_vgg = image_dataset_from_directory('.', class_names=['fruits', 'humans'], seed = 42, image_size=(100, 100))"
      ],
      "metadata": {
        "colab": {
          "base_uri": "https://localhost:8080/"
        },
        "id": "jWxVniU0_EhL",
        "outputId": "88c42ed7-7d7d-4e02-831d-e9f5e4bc641b"
      },
      "execution_count": 324,
      "outputs": [
        {
          "output_type": "stream",
          "name": "stdout",
          "text": [
            "Found 100 files belonging to 2 classes.\n"
          ]
        }
      ]
    },
    {
      "cell_type": "code",
      "source": [
        "vgg_features, vgg_label = get_features_and_labels(data_for_vgg)"
      ],
      "metadata": {
        "colab": {
          "base_uri": "https://localhost:8080/"
        },
        "id": "Z-QxEDOa2HxA",
        "outputId": "62af1905-836a-4456-dc12-5daad50a8309"
      },
      "execution_count": 337,
      "outputs": [
        {
          "output_type": "stream",
          "name": "stdout",
          "text": [
            "1/1 [==============================] - 3s 3s/step\n",
            "1/1 [==============================] - 3s 3s/step\n",
            "1/1 [==============================] - 2s 2s/step\n",
            "1/1 [==============================] - 0s 288ms/step\n"
          ]
        },
        {
          "output_type": "execute_result",
          "data": {
            "text/plain": [
              "(100, 3, 3, 512)"
            ]
          },
          "metadata": {},
          "execution_count": 337
        }
      ]
    },
    {
      "cell_type": "code",
      "source": [
        "vgg_features = vgg_features.reshape(100, -1)\n",
        "vgg_features.shape"
      ],
      "metadata": {
        "colab": {
          "base_uri": "https://localhost:8080/"
        },
        "id": "S_meyNOq_wb5",
        "outputId": "2c07e8ce-9541-4bdb-c472-f29c21ec34be"
      },
      "execution_count": 338,
      "outputs": [
        {
          "output_type": "execute_result",
          "data": {
            "text/plain": [
              "(100, 4608)"
            ]
          },
          "metadata": {},
          "execution_count": 338
        }
      ]
    },
    {
      "cell_type": "code",
      "source": [
        "vgg_x_train, vgg_x_test, vgg_y_train, vgg_y_test  = train_test_split(vgg_features, vgg_label, test_size=0.2,random_state=42,stratify=vgg_label)"
      ],
      "metadata": {
        "id": "HiCjZ6PL_c31"
      },
      "execution_count": 344,
      "outputs": []
    },
    {
      "cell_type": "code",
      "source": [
        "vgg_svc = LinearSVC(C=1, loss='hinge')\n",
        "vgg_svc.fit(vgg_x_train, vgg_y_train)\n",
        "\n",
        "y_pred = vgg_svc.predict(vgg_x_test)\n",
        "print(\"The predicted Data is :\")\n",
        "print(y_pred)\n",
        "print(\"The actual data is:\")\n",
        "print(np.array(vgg_y_test))\n",
        "print(f'The model is {accuracy_score(y_pred, vgg_y_test) * 100} accurate.')"
      ],
      "metadata": {
        "colab": {
          "base_uri": "https://localhost:8080/"
        },
        "id": "dQ0H5Y9L95M-",
        "outputId": "b6005606-3b9d-4215-e012-6cc3463c9def"
      },
      "execution_count": 346,
      "outputs": [
        {
          "output_type": "stream",
          "name": "stdout",
          "text": [
            "The predicted Data is :\n",
            "[1 1 1 1 0 0 0 1 0 0 0 1 0 0 0 1 1 0 1 1]\n",
            "The actual data is:\n",
            "[1 1 1 1 0 0 0 1 0 0 0 1 0 0 0 1 1 0 1 1]\n",
            "The model is 100.0 accurate.\n"
          ]
        }
      ]
    },
    {
      "cell_type": "code",
      "source": [],
      "metadata": {
        "id": "4vOyN4rq_N0m"
      },
      "execution_count": null,
      "outputs": []
    }
  ]
}